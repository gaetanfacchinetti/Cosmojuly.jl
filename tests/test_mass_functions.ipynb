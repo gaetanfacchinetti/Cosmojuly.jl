{
 "cells": [
  {
   "cell_type": "code",
   "execution_count": null,
   "metadata": {},
   "outputs": [],
   "source": [
    "using BenchmarkTools\n",
    "using Plots\n",
    "\n",
    "include(\"../src/Cosmojuly.jl\")\n",
    "import .Cosmojuly as cj"
   ]
  },
  {
   "cell_type": "code",
   "execution_count": null,
   "metadata": {},
   "outputs": [],
   "source": [
    "k = 10 .^(range(-4,stop=3,length=5000))\n",
    "\n",
    "plot(k, abs.(cj.transfer_function.(k, with_baryons=true)), yscale=:log10, xscale=:log10)\n",
    "plot!(k, abs.(cj.transfer_function.(k, with_baryons=false)), yscale=:log10, xscale=:log10)"
   ]
  },
  {
   "cell_type": "code",
   "execution_count": null,
   "metadata": {},
   "outputs": [],
   "source": [
    "k = 10 .^(range(-4,stop=3,length=5000))\n",
    "\n",
    "trivial_cosmo = cj.Cosmology(cj.planck18_bkg, k->cj.power_spectrum_ΛCDM(k), cj.TrivialTF)\n",
    "\n",
    "plot(k,  cj.matter_power_spectrum.(k), yscale=:log10, xscale=:log10)\n",
    "plot!(k, cj.matter_power_spectrum.(k, cosmology = trivial_cosmo), yscale=:log10, xscale=:log10)\n",
    "plot!(k, cj.curvature_power_spectrum.(k), yscale=:log10, xscale=:log10)"
   ]
  },
  {
   "cell_type": "code",
   "execution_count": null,
   "metadata": {},
   "outputs": [],
   "source": [
    "m = 10 .^(range(-12,stop=16,length=500))\n",
    "plot(m, cj.σ²_vs_M.(m, cj.SharpK), xscale=:log10)\n",
    "plot!(m, cj.σ²_vs_M.(m, cj.TopHat), xscale=:log10)\n",
    "plot!(m, cj.σ²_vs_M.(m, cj.Gaussian), xscale=:log10)"
   ]
  },
  {
   "cell_type": "code",
   "execution_count": null,
   "metadata": {},
   "outputs": [],
   "source": [
    "m = 10 .^(range(-12,stop=16,length=500))\n",
    "plot(m, abs.(cj.dσ²_dM.(m, cj.SharpK)), xscale=:log10, yscale=:log10)\n",
    "plot!(m, abs.(cj.dσ²_dM.(m, cj.TopHat)), xscale=:log10, yscale=:log10)\n",
    "plot!(m, abs.(cj.dσ²_dM.(m, cj.Gaussian)), xscale=:log10, yscale=:log10)"
   ]
  },
  {
   "cell_type": "code",
   "execution_count": null,
   "metadata": {},
   "outputs": [],
   "source": [
    "m = 10 .^(range(-12,stop=15,length=500))\n",
    "plot(m,  m.^2 .* cj.dn_dM.(m, 0, cj.SharpK, cj.PressSchechter), xscale=:log10, yscale=:log10)\n",
    "plot!(m,  m.^2 .* cj.dn_dM.(m, 0, cj.TopHat, cj.PressSchechter), xscale=:log10, yscale=:log10)\n",
    "plot!(m,  m.^2 .* cj.dn_dM.(m, 0, cj.Gaussian, cj.PressSchechter), xscale=:log10, yscale=:log10)\n",
    "\n",
    "plot!(m,  m.^2 .* cj.dn_dM.(m, 0, cj.SharpK, cj.SethTormen), xscale=:log10, yscale=:log10)\n",
    "plot!(m,  m.^2 .* cj.dn_dM.(m, 0, cj.TopHat, cj.SethTormen), xscale=:log10, yscale=:log10)\n",
    "plot!(m,  m.^2 .* cj.dn_dM.(m, 0, cj.Gaussian, cj.SethTormen), xscale=:log10, yscale=:log10)"
   ]
  },
  {
   "cell_type": "code",
   "execution_count": null,
   "metadata": {},
   "outputs": [],
   "source": []
  }
 ],
 "metadata": {
  "kernelspec": {
   "display_name": "Julia 1.8.5",
   "language": "julia",
   "name": "julia-1.8"
  },
  "language_info": {
   "file_extension": ".jl",
   "mimetype": "application/julia",
   "name": "julia",
   "version": "1.8.5"
  },
  "orig_nbformat": 4
 },
 "nbformat": 4,
 "nbformat_minor": 2
}
