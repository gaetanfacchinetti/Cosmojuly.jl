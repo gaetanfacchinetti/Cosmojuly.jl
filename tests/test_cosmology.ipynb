{
 "cells": [
  {
   "cell_type": "code",
   "execution_count": 1,
   "metadata": {},
   "outputs": [],
   "source": [
    "using BenchmarkTools\n",
    "using Plots\n",
    "\n",
    "include(\"../src/Cosmojuly.jl\")\n",
    "import .Cosmojuly as cj"
   ]
  },
  {
   "cell_type": "code",
   "execution_count": null,
   "metadata": {},
   "outputs": [],
   "source": [
    "cj.planck18.bkgΩ_m0\n",
    "cj.growth_factor(0)"
   ]
  },
  {
   "cell_type": "code",
   "execution_count": null,
   "metadata": {},
   "outputs": [],
   "source": [
    "using Plots\n",
    "\n",
    "z = 10 .^(range(-2,stop=4,length=100))\n",
    "\n",
    "\n",
    "Ω_r = MyCosmology.Ω_r.(z)\n",
    "Ω_m = MyCosmology.Ω_m.(z)\n",
    "Ω_Λ = MyCosmology.Ω_Λ.(z)\n",
    "\n",
    "ρ_r = MyCosmology.ρ_r_Msun_Mpc3.(z)\n",
    "ρ_m = MyCosmology.ρ_m_Msun_Mpc3.(z)\n",
    "ρ_Λ = MyCosmology.ρ_Λ_Msun_Mpc3.(z)\n",
    "ρ_c = MyCosmology.ρ_c_Msun_Mpc3.(z)\n",
    "\n",
    "plot(z, MyCosmology.growth_factor.(z).*(1 .+z), xscale=:log10, color=:blue)\n",
    "plot!(z, MyCosmology.growth_factor_Carroll.(z).*(1 .+z), xscale=:log10, yscale=:log10, color=:red)"
   ]
  }
 ],
 "metadata": {
  "kernelspec": {
   "display_name": "Julia 1.8.5",
   "language": "julia",
   "name": "julia-1.8"
  },
  "language_info": {
   "file_extension": ".jl",
   "mimetype": "application/julia",
   "name": "julia",
   "version": "1.8.5"
  },
  "orig_nbformat": 4
 },
 "nbformat": 4,
 "nbformat_minor": 2
}
