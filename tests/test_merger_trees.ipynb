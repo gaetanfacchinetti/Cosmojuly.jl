{
 "cells": [
  {
   "cell_type": "code",
   "execution_count": 1,
   "metadata": {},
   "outputs": [],
   "source": [
    "using BenchmarkTools\n",
    "using Plots\n",
    "\n",
    "include(\"../src/Cosmojuly.jl\")\n",
    "import .Cosmojuly as cj"
   ]
  },
  {
   "cell_type": "code",
   "execution_count": 3,
   "metadata": {},
   "outputs": [
    {
     "data": {
      "text/plain": [
       "1.0658909692837272e17"
      ]
     },
     "metadata": {},
     "output_type": "display_data"
    }
   ],
   "source": [
    "cj.mass_from_radius(1/(0.028), cj.SharpK)"
   ]
  },
  {
   "cell_type": "code",
   "execution_count": null,
   "metadata": {},
   "outputs": [],
   "source": [
    "using Plots\n",
    "\n",
    "Mhost_init = 1e+12\n",
    "Mres = 1e+0\n",
    "\n",
    "s_vs_m, ds_vs_m = cj.interpolation_s_vs_mass()\n",
    "\n",
    "Mhost = 10.0.^range(log10(2.1*Mres), log10(Mhost_init), 200)\n",
    "\n",
    "#function_P, function_F = cj.interpolate_functions_PF(Mhost_init, Mres)\n",
    "\n",
    "plot(Mhost, cj.mean_number_progenitors.(Mhost/2.0, Mhost, Mres, s_vs_m, ds_vs_m), xscale=:log10,  linestyle=:solid, yscale=:log10)\n",
    "#plot!(Mhost, function_P.(Mhost, Mres), xscale=:log10, linestyle=:dash, linewidth=4, yscale=:log10)"
   ]
  },
  {
   "cell_type": "code",
   "execution_count": null,
   "metadata": {},
   "outputs": [],
   "source": [
    "using Plots\n",
    "\n",
    "mhost = 1e+12\n",
    "mres = 1e+2\n",
    "\n",
    "m = 10.0.^range(log10(mres), log10(mhost), 200)\n",
    "\n",
    "s_vs_m, _ = cj.interpolation_s_vs_mass()\n",
    "#function_P, function_F = cj.interpolate_functions_PF(mhost, mres)\n",
    "\n",
    "println(cj.mass_fraction_unresolved.(2e+2, 1e+2, s_vs_m))\n",
    "\n",
    "plot(m, cj.mass_fraction_unresolved.(m, mres, s_vs_m), xscale=:log10,  linestyle=:solid)\n",
    "#plot!(m, function_F.(m), xscale=:log10, linestyle=:dash, linewidth=4)"
   ]
  },
  {
   "cell_type": "code",
   "execution_count": null,
   "metadata": {},
   "outputs": [],
   "source": [
    "using Plots\n",
    "\n",
    "M1   = 1e+12\n",
    "M2 = 10.0.^range(2, log10(M1), 200)\n",
    "\n",
    "s_vs_m, ds_vs_m = cj.interpolation_s_vs_mass()\n",
    "\n",
    "plot(M2[M2.>1e+8], cj.pdf_progenitors.(M2[M2.>1e+8], M1, 1e+8, s_vs_m, ds_vs_m), xscale=:log10, yscale=:log10)\n",
    "plot!(M2[M2.>1e+5], cj.pdf_progenitors.(M2[M2.>1e+5], M1, 1e+5, s_vs_m, ds_vs_m), xscale=:log10, yscale=:log10)\n",
    "plot!(M2[M2.>1e+2], cj.pdf_progenitors.(M2[M2.>1e+2], M1, 1e+2, s_vs_m, ds_vs_m), xscale=:log10, yscale=:log10)"
   ]
  },
  {
   "cell_type": "code",
   "execution_count": null,
   "metadata": {},
   "outputs": [],
   "source": [
    "using Plots\n",
    "\n",
    "\n",
    "s_vs_m, ds_vs_m = cj.interpolation_s_vs_mass()\n",
    "\n",
    "M1   = 1e+12\n",
    "M2 = 10.0.^range(0, log10(M1), 100)\n",
    "\n",
    "#plot(M2, cj.cmf_progenitors.(M2, M1, 1e+8) .- 0.2, xscale=:log10)\n",
    "#plot!(M2, cj.cmf_progenitors.(M2, M1, 1e+5).- 0.2, xscale=:log10)\n",
    "#plot!(M2, cj.cmf_progenitors.(M2, M1, 1e+2).- 0.2, xscale=:log10)\n",
    "\n",
    "M1   = 1e+12\n",
    "M2 = 10.0.^range(1.5, log10(M1), 1000)\n",
    "\n",
    "#plot(M2, cj.cmf_progenitors.(M2, M1, 1e+8).- 0.2, xscale=:log10, linestyle=:dash)\n",
    "#plot!(M2, cj.cmf_progenitors.(M2, M1, 1e+5).- 0.2, xscale=:log10, linestyle=:dash)\n",
    "plot(M2, cj.cmf_progenitors.(M2, M1, 1e+2, s_vs_m, ds_vs_m), xscale=:log10, linestyle=:dash)"
   ]
  },
  {
   "cell_type": "code",
   "execution_count": null,
   "metadata": {},
   "outputs": [],
   "source": [
    "itp_z_vs_Δω = cj.interpolate_functions_z()"
   ]
  },
  {
   "cell_type": "code",
   "execution_count": null,
   "metadata": {},
   "outputs": [],
   "source": [
    "subhalo_mass1, m_host1, z_steps1, z_acc1 = cj.subhalo_mass_function(1e+12, 1e+8, z_vs_Δω = itp_z_vs_Δω)"
   ]
  },
  {
   "cell_type": "code",
   "execution_count": null,
   "metadata": {},
   "outputs": [],
   "source": [
    "subhalo_mass2, m_host2, z_steps2, z_acc2 = cj.subhalo_mass_function(1e+12, 1e+5, z_vs_Δω = itp_z_vs_Δω)"
   ]
  },
  {
   "cell_type": "code",
   "execution_count": null,
   "metadata": {},
   "outputs": [],
   "source": [
    "subhalo_mass3, m_host3, z_steps3, z_acc3 = cj.subhalo_mass_function(1e+12, 1e+6,  z_vs_Δω = itp_z_vs_Δω)"
   ]
  },
  {
   "cell_type": "code",
   "execution_count": null,
   "metadata": {},
   "outputs": [],
   "source": [
    "using Plots\n",
    "\n",
    "m_array = 10.0.^range(-8, stop=1, length=1000)\n",
    "#CMF1 = [count(x -> x > m, subhalo_mass1) for m in m_array]\n",
    "CMF2 = [count(x -> x > m, subhalo_mass2) for m in m_array]\n",
    "CMF3 = [count(x -> x > m, subhalo_mass3) for m in m_array]\n",
    "\n",
    "#plot(m_array[CMF1 .> 0], CMF1[CMF1 .> 0], xscale=:log10, yscale=:log10, color=:blue)\n",
    "plot(m_array[CMF2 .> 0], CMF2[CMF2 .> 0], xscale=:log10, yscale=:log10, color=:red)\n",
    "plot!(m_array[CMF3 .> 0], CMF3[CMF3 .> 0], xscale=:log10, yscale=:log10, color=:green)"
   ]
  },
  {
   "cell_type": "code",
   "execution_count": null,
   "metadata": {},
   "outputs": [],
   "source": [
    "using SpecialFunctions\n",
    "using LsqFit\n",
    "\n",
    "function γ2(γ1::Real, α1::Real, α2::Real, β::Real, ζ::Real) \n",
    "    int1 =  β.^(.-(2.0.-α1)./ζ) .* gamma.((2.0.-α1)./ζ) .*  gamma_inc.((2.0.-α1)./ζ, β)[1] ./ ζ \n",
    "    int2 =  β.^(.-(2.0.-α2)./ζ) .* gamma.((2.0.-α2)./ζ) .*  gamma_inc.((2.0.-α2)./ζ, β)[1] ./ ζ \n",
    "    return (1.0 .- γ1 .* int1) ./  int2\n",
    "end\n",
    "\n",
    "function fitting_function(m_m0, γ1, α1, α2, β, ζ)\n",
    "    if α1 > 2 || α1 < 1 || α2 > 2 || α2 < 1 || β < 0 || ζ < 0 || γ1 < 0\n",
    "        return Inf\n",
    "    end\n",
    "    return γ1./ζ .* ((m_m0).^(1.0.-α1) .* expint.((α1.-1.0)./ζ .+ 1.0, β.*(m_m0).^ζ) .- expint.((α1.-1.0)./ζ .+ 1.0, β)) .+  γ2(γ1, α1, α2, β, ζ)./ζ .* ((m_m0).^(1.0.-α2) .* expint.((α2.-1.0)./ζ .+ 1.0, β.*(m_m0).^ζ) .- expint.((α2.-1.0)./ζ .+ 1.0, β)) \n",
    "end\n",
    "\n",
    "p0 = [0.019, 1.94, 1.58, 24, 3.4]\n",
    "\n",
    "model(t, p) = @. log10.(fitting_function(10.0.^t, p[1], p[2], p[3], p[4], p[5]))\n",
    "\n",
    "fit = curve_fit(model, log10.(m_array[CMF3 .> 0]), log10.(CMF3[CMF3 .> 0]), p0)\n",
    "\n",
    "println(fit.param)\n",
    "println(γ2(fit.param...))\n",
    "\n",
    "res = 10.0.^model(log10.(m_array), fit.param) #fitting_function(1e+12 .* m_array, 1e+12, fit.param...)\n",
    "plot(m_array[res .> 0], res[res .> 0], xscale=:log10, yscale=:log10, ylim=[1e-1, 1e+5])\n",
    "plot!(m_array[CMF3 .> 0], CMF3[CMF3 .> 0], xscale=:log10, yscale=:log10, ylim=[1e-1, 1e+5])"
   ]
  },
  {
   "cell_type": "code",
   "execution_count": null,
   "metadata": {},
   "outputs": [],
   "source": [
    "#plot(z_steps1, m_host1, yscale=:log10, color=:blue)\n",
    "plot(z_steps2, m_host2, yscale=:log10, color=:red)\n",
    "plot!(z_steps3, m_host3, yscale=:log10, color=:green)"
   ]
  },
  {
   "cell_type": "code",
   "execution_count": null,
   "metadata": {},
   "outputs": [],
   "source": [
    "#plot(subhalo_mass1, z_acc1, seriestype=:scatter, xscale=:log10, markersize = 2, yscale=:log10)\n",
    "plot(subhalo_mass2, z_acc2, seriestype=:scatter, xscale=:log10, markersize = 2, yscale=:log10)\n",
    "plot!(subhalo_mass3, z_acc3, seriestype=:scatter, xscale=:log10, markersize = 2, yscale=:log10)"
   ]
  },
  {
   "cell_type": "code",
   "execution_count": null,
   "metadata": {},
   "outputs": [],
   "source": [
    "import StatsBase as SB\n",
    "using Plots\n",
    "\n",
    "id_6 = (subhalo_mass2 .> 1e-6) .& (subhalo_mass2 .< 1e-5)\n",
    "id_5 = (subhalo_mass2 .> 1e-5) .& (subhalo_mass2 .< 1e-4)\n",
    "id_4 = (subhalo_mass2 .> 1e-4) .& (subhalo_mass2 .< 1e-3)\n",
    "id_3 = (subhalo_mass2 .> 1e-3) .& (subhalo_mass2 .< 1e-2)\n",
    "#println(count(x -> x === true, id_4))\n",
    "\n",
    "#result6 = SB.fit(Histogram, log10.(z_acc3[id_6]), nbins=40)\n",
    "#result5 = SB.fit(Histogram, log10.(z_acc3[id_5]), nbins=40)\n",
    "#plot(result6.edges[1][2:end], log10.(result6.weights), st=:stairs)\n",
    "#plot!(result5.edges[1][2:end], log10.(result5.weights), st=:stairs)\n",
    "\n",
    "histogram(log10.(z_acc2[id_6]), normalize=:pdf)\n",
    "histogram!(log10.(z_acc2[id_5]), normalize=:pdf)\n",
    "histogram!(log10.(z_acc2[id_4]), normalize=:pdf)"
   ]
  },
  {
   "cell_type": "code",
   "execution_count": null,
   "metadata": {},
   "outputs": [],
   "source": [
    "include(\"../src/Cosmojuly.jl\")\n",
    "import .Cosmojuly as cj\n",
    "\n",
    "mres = 1e+3\n",
    "mhost = 1e+12\n",
    "\n",
    "#cj.save_data_merger_tree(mhost, mres)"
   ]
  },
  {
   "cell_type": "code",
   "execution_count": null,
   "metadata": {},
   "outputs": [],
   "source": [
    "using Plots\n",
    "\n",
    "q = range(-10, 0, length=101)\n",
    "m1_array = 10.0.^range(log10(2.0001*mres), log10(mhost), length=101)\n",
    "\n",
    "func, _, _ = cj.load_data_merger_tree(mhost, mres)\n",
    "plot(heatmap(q, log10.(m1_array), log10.(func.((1.0 .- 10.0.^q)', m1_array)), color = :turbo))\n",
    "contour!(q, log10.(m1_array), log10.(func.((1.0 .- 10.0.^q)', m1_array)), color=:black, levels=16)"
   ]
  },
  {
   "cell_type": "code",
   "execution_count": null,
   "metadata": {},
   "outputs": [],
   "source": [
    "using Plots\n",
    "\n",
    "p = range(0, 0.999, length=501)\n",
    "m1_array = 10.0.^range(log10(2.0001*mres), log10(mhost), length=501)\n",
    "\n",
    "func, _, _ = cj.load_data_merger_tree(mhost, mres)\n",
    "#plot(heatmap(p, log10.(m1_array), log10.(func.(p', m1_array))), c = :thermal)\n",
    "contourf(p, log10.(m1_array), log10.(func.(p', m1_array)), color=:turbo)\n",
    "plot!([0, 1], [5, 5])"
   ]
  },
  {
   "cell_type": "code",
   "execution_count": null,
   "metadata": {},
   "outputs": [],
   "source": [
    "include(\"../src/Cosmojuly.jl\")\n",
    "import .Cosmojuly as cj\n",
    "\n",
    "using Random\n",
    "\n",
    "Random.seed!(3)\n",
    "\n",
    "itp_z_vs_Δω = cj.interpolate_functions_z()\n",
    "\n",
    "z_bins, mass_edges, z_edges = cj.subhalo_mass_function_binned(1e+12, 1e+3, z_vs_Δω = itp_z_vs_Δω)"
   ]
  },
  {
   "cell_type": "code",
   "execution_count": null,
   "metadata": {},
   "outputs": [],
   "source": [
    "using Plots\n",
    "\n",
    "mass_bins = sum(z_bins, dims=2)[:]\n",
    "edges = mass_edges[1:end-1][mass_bins .> 0]\n",
    "\n",
    "plot(edges,  log(10) .* mass_bins[mass_bins .> 0], xscale=:log10, yscale=:log10, seriestype=:stairs)"
   ]
  },
  {
   "cell_type": "code",
   "execution_count": null,
   "metadata": {},
   "outputs": [],
   "source": [
    "using Plots\n",
    "\n",
    "im = searchsortedfirst(mass_edges, 1e-7)\n",
    "\n",
    "#mass_edges[21]\n",
    "\n",
    "edges = z_edges[1:end-1]\n",
    "data1 = z_bins[im,:]\n",
    "data2 = z_bins[im-1,:]\n",
    "data3 = z_bins[im+1,:]\n",
    "\n",
    "plot(edges[data1 .> 0], data1[data1 .> 0], xscale=:log10, yscale=:log10, seriestype=:stairs)\n",
    "plot!(edges[data2 .> 0], data2[data2 .> 0], xscale=:log10, yscale=:log10, seriestype=:stairs)\n",
    "plot!(edges[data3 .> 0], data3[data3 .> 0], xscale=:log10, yscale=:identity, seriestype=:stairs)"
   ]
  },
  {
   "cell_type": "code",
   "execution_count": null,
   "metadata": {},
   "outputs": [],
   "source": [
    "include(\"../src/Cosmojuly.jl\")\n",
    "import .Cosmojuly as cj\n",
    "\n",
    "m1_array = 10.0.^range(log10(1e+6), log10(mhost), length=101)\n",
    "res1 = cj.cmf_inv_progenitors.(0.9999999999, m1_array, 1e+2, itp_S_vs_mass, itp_dS_vs_mass)\n",
    "res2 = cj.cmf_inv_progenitors.(0.999999999, m1_array, 1e+2, itp_S_vs_mass, itp_dS_vs_mass)\n",
    "res3 = cj.cmf_inv_progenitors.(0.99999999, m1_array, 1e+2, itp_S_vs_mass, itp_dS_vs_mass)\n",
    "res4 = cj.cmf_inv_progenitors.(0.9999999, m1_array, 1e+2, itp_S_vs_mass, itp_dS_vs_mass)\n",
    "res5 = cj.cmf_inv_progenitors.(0.999999, m1_array, 1e+2, itp_S_vs_mass, itp_dS_vs_mass)\n",
    "\n",
    "plot(m1_array[res1 .> 0], res1[res1 .> 0], xscale=:log10, yscale=:log10, legend = false, color=:blue)\n",
    "plot!(m1_array[res2 .> 0], res2[res2 .> 0], xscale=:log10, yscale=:log10, legend = false, color=:red)\n",
    "plot!(m1_array[res3 .> 0], res3[res3 .> 0], xscale=:log10, yscale=:log10, legend = false, color=:green)\n",
    "plot!(m1_array[res4 .> 0], res4[res4 .> 0], xscale=:log10, yscale=:log10, legend = false, color=:purple)\n",
    "plot!(m1_array[res5 .> 0], res5[res5 .> 0], xscale=:log10, yscale=:log10, legend = false, color=:orange)"
   ]
  },
  {
   "cell_type": "code",
   "execution_count": null,
   "metadata": {},
   "outputs": [],
   "source": [
    "m_range = 10.0.^range(log10(1e+4), 12, 200)\n",
    "\n",
    "s_vs_m, dS_vs_m = cj.interpolation_s_vs_mass()\n",
    "plot(m_range, cj.cmf_progenitors.(1e+5, m_range, 1e+3, s_vs_m, dS_vs_m ), xscale=:log10)\n",
    "\n"
   ]
  },
  {
   "cell_type": "code",
   "execution_count": null,
   "metadata": {},
   "outputs": [],
   "source": [
    "s_vs_m, dS_vs_m = cj.interpolation_s_vs_mass()\n",
    "\n",
    "m_range = 10.0.^range(log10(2.001e+5), 14, 200)\n",
    "\n",
    "plot(m_range, cj.cmf_inv_progenitors.(0.5, m_range, 1e+5, s_vs_m, dS_vs_m), xscale=:log10)"
   ]
  },
  {
   "cell_type": "code",
   "execution_count": null,
   "metadata": {},
   "outputs": [],
   "source": [
    "s_vs_m, dS_vs_m = cj.interpolation_s_vs_mass()\n",
    "\n",
    "m_range = 10.0.^range(log10(2.1e+3), 12, 200)\n",
    "\n",
    "plot(m_range, cj.cmf_inv_progenitors.(0.5, m_range, 1e+3, s_vs_m, dS_vs_m), xscale=:log10)\n",
    "#println(cj.cmf_inv_progenitors.(0.5, 1e+5, 1e+3, s_vs_m, dS_vs_m))\n",
    "#println(func(0.12112736878992725, 2.4e+3))"
   ]
  },
  {
   "cell_type": "code",
   "execution_count": null,
   "metadata": {},
   "outputs": [],
   "source": [
    "include(\"../src/Cosmojuly.jl\")\n",
    "import .Cosmojuly as cj\n",
    "\n",
    "\n",
    "custom_power_spectrum(k_Mpc::Real) = 1e-5/sqrt(2.0*π*0.5^2)/k_Mpc*exp(-(log(k_Mpc/10.0))^2/2/0.5^2) + cj.power_spectrum_ΛCDM(k_Mpc, 1e-10*exp(3.044), 0.9649)\n",
    "\n",
    "k_range = 10.0.^range(-2, 5, 100)\n",
    "\n",
    "plot(k_range, custom_power_spectrum.(k_range), xscale=:log10, yscale=:log10)"
   ]
  },
  {
   "cell_type": "code",
   "execution_count": null,
   "metadata": {},
   "outputs": [],
   "source": [
    "new_cosmology = cj.Cosmology(\"planck_with_spike\", cj.planck18_bkg, custom_power_spectrum, cj.EH98_planck18)\n"
   ]
  },
  {
   "cell_type": "code",
   "execution_count": null,
   "metadata": {},
   "outputs": [],
   "source": [
    "include(\"../src/Cosmojuly.jl\")\n",
    "import .Cosmojuly as cj\n",
    "\n",
    "mres = 1e+1\n",
    "mhost = 1e+12\n",
    "\n",
    "custom_power_spectrum(k_Mpc::Real) = 1e-5/sqrt(2.0*π*0.5^2)/k_Mpc*exp(-(log(k_Mpc/10.0))^2/2/0.5^2) + cj.power_spectrum_ΛCDM(k_Mpc, 1e-10*exp(3.044), 0.9649)\n",
    "new_cosmology = cj.Cosmology(\"planck_with_spike\", cj.planck18_bkg, custom_power_spectrum, cj.EH98_planck18)\n",
    "\n",
    "#cj.save_data_merger_tree(mhost, mres, cosmology=new_cosmology)"
   ]
  },
  {
   "cell_type": "code",
   "execution_count": null,
   "metadata": {},
   "outputs": [],
   "source": [
    "using Plots\n",
    "\n",
    "q = range(-10, 0, length=201)\n",
    "m1_array = 10.0.^range(log10(2.0001*mres), log10(mhost), length=201)\n",
    "\n",
    "func, _, _ = cj.load_data_merger_tree(mhost, mres, cosmology=new_cosmology)\n",
    "#plot(heatmap(q, log10.(m1_array), log10.(func.((1.0 .- 10.0.^q)', m1_array)), color = :turbo))\n",
    "contour!(q, log10.(m1_array), log10.(func.((1.0 .- 10.0.^q)', m1_array)), color=:black, levels=16)"
   ]
  },
  {
   "cell_type": "code",
   "execution_count": null,
   "metadata": {},
   "outputs": [],
   "source": [
    "using Plots\n",
    "\n",
    "p = range(0, 0.999, length=501)\n",
    "m1_array = 10.0.^range(log10(2.0001*mres), log10(mhost), length=501)\n",
    "\n",
    "func, _, _ = cj.load_data_merger_tree(mhost, mres, cosmology=new_cosmology)\n",
    "#plot(heatmap(p, log10.(m1_array), log10.(func.(p', m1_array))), c = :thermal)\n",
    "contourf(p, log10.(m1_array), log10.(func.(p', m1_array)), color=:turbo)"
   ]
  },
  {
   "cell_type": "code",
   "execution_count": null,
   "metadata": {},
   "outputs": [],
   "source": [
    "using Random\n",
    "\n",
    "Random.seed!(0)\n",
    "\n",
    "itp_z_vs_Δω = cj.interpolate_functions_z()\n",
    "z_bins_new, mass_edges_new, z_edges_new = cj.subhalo_mass_function_binned(1e+12, 1e+1, z_vs_Δω = itp_z_vs_Δω, cosmology=new_cosmology)\n",
    "z_bins, mass_edges, z_edges = cj.subhalo_mass_function_binned(1e+12, 1e+3, z_vs_Δω = itp_z_vs_Δω)"
   ]
  },
  {
   "cell_type": "code",
   "execution_count": null,
   "metadata": {},
   "outputs": [],
   "source": [
    "using Plots\n",
    "using LaTeXStrings\n",
    "\n",
    "mass_bins = sum(z_bins, dims=2)[:]\n",
    "Δm = diff(mass_edges)\n",
    "edges = mass_edges[1:end-1]\n",
    "mask = mass_bins .> 0\n",
    "\n",
    "mass_bins_new = sum(z_bins_new, dims=2)[:]\n",
    "Δm_new = diff(mass_edges_new)\n",
    "edges_new = mass_edges_new[1:end-1]\n",
    "mask_new = mass_bins_new .> 0\n",
    "\n",
    "\n",
    "plot(edges[mask],  edges[mask].^2 .* mass_bins[mask] ./ Δm[mask], seriestype=:stairs, label=L\"\\textrm{Planck18}\")\n",
    "plot!(edges_new[mask_new],  edges_new[mask_new].^2 .*  mass_bins_new[mask_new] ./ Δm_new[mask_new], seriestype=:stairs, label=L\"\\textrm{Planck18 + spike}\")\n",
    "xlabel!(L\"m/m_{\\textrm{host}}\", xguidefontsize=14)\n",
    "ylabel!(L\"m^2\\frac{\\textrm{d} N}{{\\textrm{d}} m} ~~ \\textrm{[M_\\odot]}\", xguidefontsize=14)\n",
    "xticks!([1e-10, 1e-8, 1e-6, 1e-4, 1e-2, 1])\n",
    "plot!(framestyle=:box, legend=:topleft, xscale=:log10, yscale=:log10,  size=(500, 400))\n",
    "savefig(\"../figs/subhalo_mass_function_with_spike.pdf\")"
   ]
  },
  {
   "cell_type": "code",
   "execution_count": null,
   "metadata": {},
   "outputs": [],
   "source": [
    "using Plots\n",
    "using LaTeXStrings\n",
    "\n",
    "m_range = 10.0.^range(-12, 1, 1000)\n",
    "\n",
    "mass_bins = sum(z_bins, dims=2)[:]\n",
    "edges = mass_edges[1:end-1]\n",
    "cmf = [convert.(Int, sum(mass_bins[edges .> m])) for m in m_range]\n",
    "\n",
    "mass_bins_new = sum(z_bins_new, dims=2)[:]\n",
    "edges_new = mass_edges_new[1:end-1]\n",
    "cmf_new = [convert.(Int, sum(mass_bins_new[edges_new .> m])) for m in m_range]\n",
    "\n",
    "plot(m_range[cmf .> 0],  cmf[cmf .> 0], seriestype=:stairs, label=L\"\\textrm{Planck18}\")\n",
    "plot!(m_range[cmf_new .> 0],  cmf_new[cmf_new .> 0], seriestype=:stairs, label=L\"\\textrm{Planck18 + spike}\")\n",
    "xlabel!(L\"m/m_{\\textrm{host}}\", xguidefontsize=14)\n",
    "ylabel!(L\"m^2\\frac{\\textrm{d} N}{{\\textrm{d}} m} ~~ \\textrm{[M_\\odot]}\", xguidefontsize=14)\n",
    "xticks!([1e-10, 1e-8, 1e-6, 1e-4, 1e-2, 1])\n",
    "plot!(framestyle=:box, legend=:topright, xscale=:log10, yscale=:log10,  size=(500, 400))\n",
    "savefig(\"../figs/subhalo_cmf_with_spike.pdf\")"
   ]
  },
  {
   "cell_type": "code",
   "execution_count": null,
   "metadata": {},
   "outputs": [],
   "source": [
    "using Plots\n",
    "\n",
    "#im = searchsortedfirst(mass_edges_new, 1e-6)\n",
    "\n",
    "edges = z_edges_new[1:end-1]\n",
    "data = z_bins_new[40,:]\n",
    "\n",
    "plot(edges[data .> 0], data[data .> 0], xscale=:log10, seriestype=:stairs)"
   ]
  },
  {
   "cell_type": "code",
   "execution_count": null,
   "metadata": {},
   "outputs": [],
   "source": [
    "include(\"../src/Cosmojuly.jl\")\n",
    "import .Cosmojuly as cj\n",
    "\n",
    "custom_power_spectrum(k_Mpc::Real) = 1e-5/sqrt(2.0*π*0.5^2)/k_Mpc*exp(-(log(k_Mpc/10.0))^2/2/0.5^2) + cj.power_spectrum_ΛCDM(k_Mpc, 1e-10*exp(3.044), 0.9649)\n",
    "new_cosmology = cj.Cosmology(\"planck_with_spike\", cj.planck18_bkg, custom_power_spectrum, cj.EH98_planck18)\n",
    "\n",
    "\n",
    "m_range = 10.0.^range(1, 12, 10000)\n",
    "s_vs_m_here, ds_vs_m = cj.interpolation_s_vs_mass(new_cosmology, range=range(1, 12, 10000))\n",
    "signal =  cj.σ²_vs_M.(m_range, cj.SharpK, cosmology=new_cosmology)\n",
    "approx = s_vs_m_here.(m_range)\n",
    "error = 2.0.*abs.(signal.-approx)./(approx .+ signal)\n",
    "plot(m_range, error, xscale=:log10)\n",
    "\n",
    "#plot!(m_range, cj.σ²_vs_M.(m_range, cj.SharpK, cosmology=new_cosmology), xscale=:log10)"
   ]
  },
  {
   "cell_type": "code",
   "execution_count": null,
   "metadata": {},
   "outputs": [],
   "source": [
    "plot(m_range, log10.(cj.σ²_vs_M.(m_range, cj.SharpK, cosmology=new_cosmology)), xscale=:log10)"
   ]
  },
  {
   "cell_type": "code",
   "execution_count": null,
   "metadata": {},
   "outputs": [],
   "source": [
    "cj.σ²_vs_M(369.62111745609815, cj.SharpK, cosmology=new_cosmology) #8394.394587008283 1030.0663414599542\n",
    "#cj.σ²_vs_M(1030.0663414599542, cj.SharpK, cosmology=new_cosmology)"
   ]
  },
  {
   "cell_type": "code",
   "execution_count": null,
   "metadata": {},
   "outputs": [],
   "source": [
    "s_vs_m_here(369.62111745609815)\n",
    "#s_vs_m(1030.0663414599542)"
   ]
  },
  {
   "cell_type": "code",
   "execution_count": null,
   "metadata": {},
   "outputs": [],
   "source": []
  }
 ],
 "metadata": {
  "kernelspec": {
   "display_name": "Julia 1.8.5",
   "language": "julia",
   "name": "julia-1.8"
  },
  "language_info": {
   "file_extension": ".jl",
   "mimetype": "application/julia",
   "name": "julia",
   "version": "1.8.5"
  },
  "orig_nbformat": 4
 },
 "nbformat": 4,
 "nbformat_minor": 2
}
