{
 "cells": [
  {
   "cell_type": "code",
   "execution_count": 18,
   "metadata": {},
   "outputs": [
    {
     "name": "stderr",
     "output_type": "stream",
     "text": [
      "WARNING: replacing module Cosmojuly.\n"
     ]
    }
   ],
   "source": [
    "using BenchmarkTools\n",
    "\n",
    "include(\"../src/Cosmojuly.jl\")\n",
    "import .Cosmojuly as cj"
   ]
  },
  {
   "cell_type": "code",
   "execution_count": 19,
   "metadata": {},
   "outputs": [
    {
     "name": "stdout",
     "output_type": "stream",
     "text": [
      "0.015490629722080484 48 0.4990509156928255\n"
     ]
    },
    {
     "name": "stdout",
     "output_type": "stream",
     "text": [
      "0.030790368137786572 109 0.49781184534186007\n"
     ]
    },
    {
     "name": "stdout",
     "output_type": "stream",
     "text": [
      "0.04590704245129018 162 0.49658205865215793\n"
     ]
    },
    {
     "name": "stdout",
     "output_type": "stream",
     "text": [
      "0.06086309102647647 205 0.24772670207500674\n"
     ]
    },
    {
     "name": "stdout",
     "output_type": "stream",
     "text": [
      "0.07564821752384887 229 0.24721991123779086\n"
     ]
    },
    {
     "name": "stdout",
     "output_type": "stream",
     "text": [
      "0.09031506107203313 251 0.12324131595318834\n"
     ]
    },
    {
     "name": "stdout",
     "output_type": "stream",
     "text": [
      "0.10477723644726211 265 0.12298040915809876\n"
     ]
    },
    {
     "name": "stdout",
     "output_type": "stream",
     "text": [
      "0.11919780477910535 275 0.12268004139016492\n"
     ]
    },
    {
     "name": "stdout",
     "output_type": "stream",
     "text": [
      "0.13338743315034662 292 0.06117474836680507\n"
     ]
    },
    {
     "name": "stdout",
     "output_type": "stream",
     "text": [
      "0.14749077783926623 301 0.06099384127026215\n"
     ]
    },
    {
     "name": "stdout",
     "output_type": "stream",
     "text": [
      "0.16143996001483174 311 0.060880410009476395\n"
     ]
    },
    {
     "name": "stdout",
     "output_type": "stream",
     "text": [
      "0.17538914219039725 319 0.015173195561218334\n"
     ]
    },
    {
     "name": "stdout",
     "output_type": "stream",
     "text": [
      "0.18927146449277643 325 0.015137316078001863\n"
     ]
    },
    {
     "name": "stdout",
     "output_type": "stream",
     "text": [
      "0.2028926003840752 329 0.007540596711714479\n"
     ]
    },
    {
     "name": "stdout",
     "output_type": "stream",
     "text": [
      "0.21636077627772465 329 0.007530088695246343\n"
     ]
    },
    {
     "name": "stdout",
     "output_type": "stream",
     "text": [
      "0.2298289521713741 330 0.007494856544138718\n"
     ]
    },
    {
     "name": "stdout",
     "output_type": "stream",
     "text": [
      "0.24329712806502357 332 0.007482188734218214\n"
     ]
    },
    {
     "name": "stdout",
     "output_type": "stream",
     "text": [
      "0.2567652545621968 333 0.007469530391128765\n"
     ]
    },
    {
     "name": "stdout",
     "output_type": "stream",
     "text": [
      "0.2701992790098302 333 0.0074591180819866985\n"
     ]
    },
    {
     "name": "stdout",
     "output_type": "stream",
     "text": [
      "0.2831864486215636 335 0.007438787046548517\n"
     ]
    },
    {
     "name": "stdout",
     "output_type": "stream",
     "text": [
      "0.296173618233297 336 0.007426592323011199\n"
     ]
    },
    {
     "name": "stdout",
     "output_type": "stream",
     "text": [
      "0.3091607878450304 337 0.007411273427033324\n"
     ]
    },
    {
     "name": "stdout",
     "output_type": "stream",
     "text": [
      "0.32214795745676383 338 0.007399718473591523\n"
     ]
    },
    {
     "name": "stdout",
     "output_type": "stream",
     "text": [
      "0.33513512706849724 338 0.007389400208505018\n"
     ]
    },
    {
     "name": "stdout",
     "output_type": "stream",
     "text": [
      "0.3477673140441766 340 0.007356989991152463\n"
     ]
    },
    {
     "name": "stdout",
     "output_type": "stream",
     "text": [
      "0.36027347737399396 341 0.0073445038321305845\n"
     ]
    },
    {
     "name": "stdout",
     "output_type": "stream",
     "text": [
      "0.3727796407038113 341 0.007334259965452051\n"
     ]
    },
    {
     "name": "stdout",
     "output_type": "stream",
     "text": [
      "0.38528580403362866 342 0.007319074667992393\n"
     ]
    },
    {
     "name": "stdout",
     "output_type": "stream",
     "text": [
      "0.397791967363446 344 0.0073064238241156675\n"
     ]
    },
    {
     "name": "stdout",
     "output_type": "stream",
     "text": [
      "0.4102981306932634 347 0.007288865063798295\n"
     ]
    },
    {
     "name": "stdout",
     "output_type": "stream",
     "text": [
      "0.42280429402308073 348 0.007277205901619596\n"
     ]
    },
    {
     "name": "stdout",
     "output_type": "stream",
     "text": [
      "0.4353104573528981 349 0.007262103087520848\n"
     ]
    },
    {
     "name": "stdout",
     "output_type": "stream",
     "text": [
      "0.44781662068271544 349 0.007251970281465903\n"
     ]
    },
    {
     "name": "stdout",
     "output_type": "stream",
     "text": [
      "0.4603227840125328 349 0.0072418511350635815\n"
     ]
    },
    {
     "name": "stdout",
     "output_type": "stream",
     "text": [
      "0.47282894734235015 349 0.00723174563045991\n"
     ]
    },
    {
     "name": "stdout",
     "output_type": "stream",
     "text": [
      "0.4853351106721675 351 0.007218613422223264\n"
     ]
    },
    {
     "name": "stdout",
     "output_type": "stream",
     "text": [
      "0.49784127400198486 352 0.007207319174990813\n"
     ]
    },
    {
     "name": "stdout",
     "output_type": "stream",
     "text": [
      "0.5103474675270263 352 0.007197260227759126\n"
     ]
    },
    {
     "name": "stdout",
     "output_type": "stream",
     "text": [
      "0.5228536308568437 352 0.007187214843638425\n"
     ]
    },
    {
     "name": "stdout",
     "output_type": "stream",
     "text": [
      "0.535359794186661 353 0.007175362974069005\n"
     ]
    },
    {
     "name": "stdout",
     "output_type": "stream",
     "text": [
      "0.5473041421792004 353 0.0071653471173252995\n"
     ]
    },
    {
     "name": "stdout",
     "output_type": "stream",
     "text": [
      "0.5588482929451857 356 0.007128787865815599\n"
     ]
    },
    {
     "name": "stdout",
     "output_type": "stream",
     "text": [
      "0.5703924437111709 358 0.007089479311216469\n"
     ]
    },
    {
     "name": "stdout",
     "output_type": "stream",
     "text": [
      "0.5819365944771562 359 0.007078580327587606\n"
     ]
    },
    {
     "name": "stdout",
     "output_type": "stream",
     "text": [
      "0.5934807452431414 359 0.007068695009358554\n"
     ]
    },
    {
     "name": "stdout",
     "output_type": "stream",
     "text": [
      "0.6050248960091267 359 0.007058823027193968\n"
     ]
    },
    {
     "name": "stdout",
     "output_type": "stream",
     "text": [
      "0.6165690467751119 359 0.0070489643636529745\n"
     ]
    },
    {
     "name": "stdout",
     "output_type": "stream",
     "text": [
      "0.6281131975410972 359 0.007039119001317786\n"
     ]
    },
    {
     "name": "stdout",
     "output_type": "stream",
     "text": [
      "0.6396573483070824 360 0.007028066218254223\n"
     ]
    },
    {
     "name": "stdout",
     "output_type": "stream",
     "text": [
      "0.6512014990730677 361 0.006993912699543112\n"
     ]
    },
    {
     "name": "stdout",
     "output_type": "stream",
     "text": [
      "0.6627456498390529 362 0.006982921305210977\n"
     ]
    },
    {
     "name": "stdout",
     "output_type": "stream",
     "text": [
      "0.6742898006050382 364 0.006968368249538562\n"
     ]
    },
    {
     "name": "stdout",
     "output_type": "stream",
     "text": [
      "0.6858339513710234 364 0.006958631647476154\n"
     ]
    },
    {
     "name": "stdout",
     "output_type": "stream",
     "text": [
      "0.6973781021370087 366 0.006946689334972889\n"
     ]
    },
    {
     "name": "stdout",
     "output_type": "stream",
     "text": [
      "0.7089222529029939 367 0.006935492527700776\n"
     ]
    },
    {
     "name": "stdout",
     "output_type": "stream",
     "text": [
      "0.7204664036689792 368 0.0069239832844915725\n"
     ]
    },
    {
     "name": "stdout",
     "output_type": "stream",
     "text": [
      "0.7320105544349644 369 0.006912088854744572\n"
     ]
    },
    {
     "name": "stdout",
     "output_type": "stream",
     "text": [
      "0.7435547052009497 370 0.006900939333805194\n"
     ]
    },
    {
     "name": "stdout",
     "output_type": "stream",
     "text": [
      "0.7550988559669349 371 0.006890074460390345\n"
     ]
    },
    {
     "name": "stdout",
     "output_type": "stream",
     "text": [
      "0.7666430067329202 371 0.006880443547651036\n"
     ]
    },
    {
     "name": "stdout",
     "output_type": "stream",
     "text": [
      "0.7781871574989054 372 0.0068696052971968955\n"
     ]
    },
    {
     "name": "stdout",
     "output_type": "stream",
     "text": [
      "0.7897313082648907 372 0.0068600020218004\n"
     ]
    },
    {
     "name": "stdout",
     "output_type": "stream",
     "text": [
      "0.8012754590308759 374 0.0034235537987871217\n"
     ]
    },
    {
     "name": "stdout",
     "output_type": "stream",
     "text": [
      "0.8128196097968612 375 0.003414139007716616\n"
     ]
    },
    {
     "name": "stdout",
     "output_type": "stream",
     "text": [
      "0.8243637605628464 376 0.0034080388021519186\n"
     ]
    },
    {
     "name": "stdout",
     "output_type": "stream",
     "text": [
      "0.8359079113288317 377 0.003401031658811269\n"
     ]
    },
    {
     "name": "stdout",
     "output_type": "stream",
     "text": [
      "0.8474520620948169 378 0.0033946989829939564\n"
     ]
    },
    {
     "name": "stdout",
     "output_type": "stream",
     "text": [
      "0.8589962128608022 380 0.0033600051862555\n"
     ]
    },
    {
     "name": "stdout",
     "output_type": "stream",
     "text": [
      "0.8705403636267874 380 0.0033551852622094097\n"
     ]
    },
    {
     "name": "stdout",
     "output_type": "stream",
     "text": [
      "0.8820845143927727 380 0.00335037198072865\n"
     ]
    },
    {
     "name": "stdout",
     "output_type": "stream",
     "text": [
      "0.8936286651587579 380 0.0033455653329333003\n"
     ]
    },
    {
     "name": "stdout",
     "output_type": "stream",
     "text": [
      "0.9051728159247432 380 0.0033407653099553833\n"
     ]
    },
    {
     "name": "stdout",
     "output_type": "stream",
     "text": [
      "0.9167169666907284 380 0.0033359719029387768\n"
     ]
    },
    {
     "name": "stdout",
     "output_type": "stream",
     "text": [
      "0.9282611174567137 380 0.0033311851030389836\n"
     ]
    },
    {
     "name": "stdout",
     "output_type": "stream",
     "text": [
      "0.9398052682226989 381 0.0033062167375250673\n"
     ]
    },
    {
     "name": "stdout",
     "output_type": "stream",
     "text": [
      "0.9513494189886842 381 0.0033014709575859822\n"
     ]
    },
    {
     "name": "stdout",
     "output_type": "stream",
     "text": [
      "0.9628935697546694 383 0.001638241966581752\n"
     ]
    },
    {
     "name": "stdout",
     "output_type": "stream",
     "text": [
      "0.9744377205206547 384 0.001631707675088081\n"
     ]
    },
    {
     "name": "stdout",
     "output_type": "stream",
     "text": [
      "0.9859818712866399 385 0.001625184811667134\n"
     ]
    },
    {
     "name": "stdout",
     "output_type": "stream",
     "text": [
      "0.9975260220526252 385 0.0016227799701710648\n"
     ]
    },
    {
     "name": "stdout",
     "output_type": "stream",
     "text": [
      "1.0090704911854118 385 0.0016203785276606491\n"
     ]
    },
    {
     "name": "stdout",
     "output_type": "stream",
     "text": [
      "1.020614641951397 385 0.001617980479527292\n"
     ]
    },
    {
     "name": "stdout",
     "output_type": "stream",
     "text": [
      "1.0321587927173823 387 0.0016106789787323442\n"
     ]
    },
    {
     "name": "stdout",
     "output_type": "stream",
     "text": [
      "1.0437029434833676 387 0.001608294642650422\n"
     ]
    },
    {
     "name": "stdout",
     "output_type": "stream",
     "text": [
      "1.0552470942493528 388 0.0016018114593863144\n"
     ]
    },
    {
     "name": "stdout",
     "output_type": "stream",
     "text": [
      "1.066791245015338 388 0.0015994396619181262\n"
     ]
    },
    {
     "name": "stdout",
     "output_type": "stream",
     "text": [
      "1.0783353957813233 388 0.00159707121860614\n"
     ]
    },
    {
     "name": "stdout",
     "output_type": "stream",
     "text": [
      "1.0898795465473086 388 0.0015947061248967802\n"
     ]
    },
    {
     "name": "stdout",
     "output_type": "stream",
     "text": [
      "1.1014236973132938 389 0.0015840523008835148\n"
     ]
    },
    {
     "name": "stdout",
     "output_type": "stream",
     "text": [
      "1.112967848079279 389 0.001581705622752886\n"
     ]
    },
    {
     "name": "stdout",
     "output_type": "stream",
     "text": [
      "1.1245119988452643 389 0.0015793622646702566\n"
     ]
    },
    {
     "name": "stdout",
     "output_type": "stream",
     "text": [
      "1.1360561496112496 389 0.0015770222221262761\n"
     ]
    },
    {
     "name": "stdout",
     "output_type": "stream",
     "text": [
      "1.1476003003772348 389 0.0015746854906174823\n"
     ]
    },
    {
     "name": "stdout",
     "output_type": "stream",
     "text": [
      "1.15914445114322 390 0.0015703317330956767\n"
     ]
    },
    {
     "name": "stdout",
     "output_type": "stream",
     "text": [
      "1.1706886019092053 390 0.0015680044693079924\n"
     ]
    },
    {
     "name": "stdout",
     "output_type": "stream",
     "text": [
      "1.1822327526751906 390 0.0015656804991952145\n"
     ]
    },
    {
     "name": "stdout",
     "output_type": "stream",
     "text": [
      "1.1937769034411758 390 0.0015633598182814212\n"
     ]
    },
    {
     "name": "stdout",
     "output_type": "stream",
     "text": [
      "1.205321054207161 391 0.0007804835160200008\n"
     ]
    },
    {
     "name": "stdout",
     "output_type": "stream",
     "text": [
      "1.2168652049731463 392 0.0007755400159873751\n"
     ]
    },
    {
     "name": "stdout",
     "output_type": "stream",
     "text": [
      "1.2284093557391316 392 0.0007743500525019566\n"
     ]
    },
    {
     "name": "stdout",
     "output_type": "stream",
     "text": [
      "1.2399535065051168 392 0.000773161816803821\n"
     ]
    },
    {
     "name": "stdout",
     "output_type": "stream",
     "text": [
      "1.251497657271102 392 0.0007719753064991045\n"
     ]
    },
    {
     "name": "stdout",
     "output_type": "stream",
     "text": [
      "1.2630418080370873 392 0.0007707905191971858\n"
     ]
    },
    {
     "name": "stdout",
     "output_type": "stream",
     "text": [
      "1.2745859588030726 392 0.0007696074525107979\n"
     ]
    },
    {
     "name": "stdout",
     "output_type": "stream",
     "text": [
      "1.2861301095690578 392 0.0007684261040560644\n"
     ]
    },
    {
     "name": "stdout",
     "output_type": "stream",
     "text": [
      "1.297674260335043 392 0.0007672464714524429\n"
     ]
    },
    {
     "name": "stdout",
     "output_type": "stream",
     "text": [
      "1.3092184111010283 392 0.0007660685523226179\n"
     ]
    },
    {
     "name": "stdout",
     "output_type": "stream",
     "text": [
      "1.3207625618670136 392 0.0007648923442923867\n"
     ]
    },
    {
     "name": "stdout",
     "output_type": "stream",
     "text": [
      "1.3323067126329988 392 0.0007637178449906175\n"
     ]
    },
    {
     "name": "stdout",
     "output_type": "stream",
     "text": [
      "1.343850863398984 392 0.0007625450520492612\n"
     ]
    },
    {
     "name": "stdout",
     "output_type": "stream",
     "text": [
      "1.3553950141649693 392 0.000761373963103385\n"
     ]
    },
    {
     "name": "stdout",
     "output_type": "stream",
     "text": [
      "1.3669391649309546 392 0.0007602045757912428\n"
     ]
    },
    {
     "name": "stdout",
     "output_type": "stream",
     "text": [
      "1.3784833156969398 392 0.0007590368877543243\n"
     ]
    },
    {
     "name": "stdout",
     "output_type": "stream",
     "text": [
      "1.390027466462925 392 0.0007578708966373913\n"
     ]
    },
    {
     "name": "stdout",
     "output_type": "stream",
     "text": [
      "1.4015716172289103 392 0.0007567066000885097\n"
     ]
    },
    {
     "name": "stdout",
     "output_type": "stream",
     "text": [
      "1.4131157679948956 392 0.0007555439957590488\n"
     ]
    },
    {
     "name": "stdout",
     "output_type": "stream",
     "text": [
      "1.4246599187608808 392 0.0007543830813036846\n"
     ]
    },
    {
     "name": "stdout",
     "output_type": "stream",
     "text": [
      "1.436204069526866 392 0.0007532238543803729\n"
     ]
    },
    {
     "name": "stdout",
     "output_type": "stream",
     "text": [
      "1.4477482202928513 394 0.0007464053359916867\n"
     ]
    },
    {
     "name": "stdout",
     "output_type": "stream",
     "text": [
      "1.4592923710588366 394 0.0007452577088165044\n"
     ]
    },
    {
     "name": "stdout",
     "output_type": "stream",
     "text": [
      "1.4708365218248218 394 0.0007441117507557105\n"
     ]
    },
    {
     "name": "stdout",
     "output_type": "stream",
     "text": [
      "1.482380672590807 394 0.0007429674594948992\n"
     ]
    },
    {
     "name": "stdout",
     "output_type": "stream",
     "text": [
      "1.4939248233567923 394 0.0007418248327228675\n"
     ]
    },
    {
     "name": "stdout",
     "output_type": "stream",
     "text": [
      "1.5054689741227776 394 0.0007406838681315934\n"
     ]
    },
    {
     "name": "stdout",
     "output_type": "stream",
     "text": [
      "1.5170131248887628 394 0.0007395445634161273\n"
     ]
    },
    {
     "name": "stdout",
     "output_type": "stream",
     "text": [
      "1.528557275654748 394 0.0007384069162745091\n"
     ]
    },
    {
     "name": "stdout",
     "output_type": "stream",
     "text": [
      "1.5401014264207333 394 0.000737270924407747\n"
     ]
    },
    {
     "name": "stdout",
     "output_type": "stream",
     "text": [
      "1.5516455771867186 394 0.000736136585519821\n"
     ]
    },
    {
     "name": "stdout",
     "output_type": "stream",
     "text": [
      "1.5631897279527038 395 0.0007323255163549343\n"
     ]
    },
    {
     "name": "stdout",
     "output_type": "stream",
     "text": [
      "1.574733878718689 395 0.0007311983748308542\n"
     ]
    },
    {
     "name": "stdout",
     "output_type": "stream",
     "text": [
      "1.5862780294846743 396 0.0007273984057825759\n"
     ]
    },
    {
     "name": "stdout",
     "output_type": "stream",
     "text": [
      "1.5978221802506596 396 0.0007262784371312228\n"
     ]
    },
    {
     "name": "stdout",
     "output_type": "stream",
     "text": [
      "1.6093663310166448 396 0.0007251600992278177\n"
     ]
    },
    {
     "name": "stdout",
     "output_type": "stream",
     "text": [
      "1.62091048178263 396 0.0007240433898101513\n"
     ]
    },
    {
     "name": "stdout",
     "output_type": "stream",
     "text": [
      "1.6324546325486153 397 0.0007219283283102141\n"
     ]
    },
    {
     "name": "stdout",
     "output_type": "stream",
     "text": [
      "1.6439987833146006 397 0.0007208161023781785\n"
     ]
    },
    {
     "name": "stdout",
     "output_type": "stream",
     "text": [
      "1.6555429340805858 398 0.0007183180946944781\n"
     ]
    },
    {
     "name": "stdout",
     "output_type": "stream",
     "text": [
      "1.667087084846571 398 0.0007172111305091018\n"
     ]
    },
    {
     "name": "stdout",
     "output_type": "stream",
     "text": [
      "1.6786312356125563 398 0.0007161057799076848\n"
     ]
    },
    {
     "name": "stdout",
     "output_type": "stream",
     "text": [
      "1.6901753863785416 398 0.0007150020406486987\n"
     ]
    },
    {
     "name": "stdout",
     "output_type": "stream",
     "text": [
      "1.7017195371445268 398 0.0007138999104935904\n"
     ]
    },
    {
     "name": "stdout",
     "output_type": "stream",
     "text": [
      "1.713263687910512 399 0.0007101283235427733\n"
     ]
    },
    {
     "name": "stdout",
     "output_type": "stream",
     "text": [
      "1.7248078386764973 399 0.0007090332999374909\n"
     ]
    },
    {
     "name": "stdout",
     "output_type": "stream",
     "text": [
      "1.7363519894424826 399 0.0007079398733257412\n"
     ]
    },
    {
     "name": "stdout",
     "output_type": "stream",
     "text": [
      "1.7478961402084678 400 0.0006931477052912158\n"
     ]
    },
    {
     "name": "stdout",
     "output_type": "stream",
     "text": [
      "1.759440290974453 400 0.0006920774589309345\n"
     ]
    },
    {
     "name": "stdout",
     "output_type": "stream",
     "text": [
      "1.7709844417404383 400 0.000691008775125424\n"
     ]
    },
    {
     "name": "stdout",
     "output_type": "stream",
     "text": [
      "1.7825285925064236 401 0.0006763257208277412\n"
     ]
    },
    {
     "name": "stdout",
     "output_type": "stream",
     "text": [
      "1.7940727432724088 401 0.0006752800471286397\n"
     ]
    },
    {
     "name": "stdout",
     "output_type": "stream",
     "text": [
      "1.805616894038394 402 0.0006723177255221867\n"
     ]
    },
    {
     "name": "stdout",
     "output_type": "stream",
     "text": [
      "1.8171610448043793 403 0.0006686243364405229\n"
     ]
    },
    {
     "name": "stdout",
     "output_type": "stream",
     "text": [
      "1.8287051955703646 403 0.0006675899216103806\n"
     ]
    },
    {
     "name": "stdout",
     "output_type": "stream",
     "text": [
      "1.8402493463363498 403 0.0006665570194621405\n"
     ]
    },
    {
     "name": "stdout",
     "output_type": "stream",
     "text": [
      "1.851793497102335 406 0.0006563136562885839\n"
     ]
    },
    {
     "name": "stdout",
     "output_type": "stream",
     "text": [
      "1.8633376478683203 406 0.0006552972508919439\n"
     ]
    },
    {
     "name": "stdout",
     "output_type": "stream",
     "text": [
      "1.8748817986343056 406 0.000654282333077216\n"
     ]
    },
    {
     "name": "stdout",
     "output_type": "stream",
     "text": [
      "1.8864259494002908 406 0.0006532689007699447\n"
     ]
    },
    {
     "name": "stdout",
     "output_type": "stream",
     "text": [
      "1.897970100166276 406 0.0006522569518983321\n"
     ]
    },
    {
     "name": "stdout",
     "output_type": "stream",
     "text": [
      "1.9095142509322613 406 0.0006512464843932692\n"
     ]
    },
    {
     "name": "stdout",
     "output_type": "stream",
     "text": [
      "1.9210584016982466 406 0.0006502374961884067\n"
     ]
    },
    {
     "name": "stdout",
     "output_type": "stream",
     "text": [
      "1.9326025524642318 407 0.0006478478452518552\n"
     ]
    },
    {
     "name": "stdout",
     "output_type": "stream",
     "text": [
      "1.944146703230217 407 0.0006468438333263722\n"
     ]
    },
    {
     "name": "stdout",
     "output_type": "stream",
     "text": [
      "1.9556908539962023 407 0.0006458412916959836\n"
     ]
    },
    {
     "name": "stdout",
     "output_type": "stream",
     "text": [
      "1.9672350047621876 407 0.0006448402183093701\n"
     ]
    },
    {
     "name": "stdout",
     "output_type": "stream",
     "text": [
      "1.9787791555281729 407 0.0006438406111178216\n"
     ]
    },
    {
     "name": "stdout",
     "output_type": "stream",
     "text": [
      "1.990323306294158 407 0.0006428424680752669\n"
     ]
    },
    {
     "name": "stdout",
     "output_type": "stream",
     "text": [
      "2.001864761696197 407 0.0006418457871383362\n"
     ]
    },
    {
     "name": "stdout",
     "output_type": "stream",
     "text": [
      "2.0134089124621823 407 0.0006408505662664062\n"
     ]
    },
    {
     "name": "stdout",
     "output_type": "stream",
     "text": [
      "2.0249530632281676 407 0.0006398568034215838\n"
     ]
    },
    {
     "name": "stdout",
     "output_type": "stream",
     "text": [
      "2.036497213994153 408 0.000636954565819669\n"
     ]
    },
    {
     "name": "stdout",
     "output_type": "stream",
     "text": [
      "2.048041364760138 408 0.0006359665117013335\n"
     ]
    },
    {
     "name": "stdout",
     "output_type": "stream",
     "text": [
      "2.0595855155261233 408 0.0006349799056055279\n"
     ]
    },
    {
     "name": "stdout",
     "output_type": "stream",
     "text": [
      "2.0711296662921086 408 0.0006339947455107329\n"
     ]
    },
    {
     "name": "stdout",
     "output_type": "stream",
     "text": [
      "2.082673817058094 408 0.0006330110293981183\n"
     ]
    },
    {
     "name": "stdout",
     "output_type": "stream",
     "text": [
      "2.094217967824079 408 0.0006320287552514807\n"
     ]
    },
    {
     "name": "stdout",
     "output_type": "stream",
     "text": [
      "2.1057621185900643 408 0.0006310479210571927\n"
     ]
    },
    {
     "name": "stdout",
     "output_type": "stream",
     "text": [
      "2.1173062693560496 408 0.0006300685248041561\n"
     ]
    },
    {
     "name": "stdout",
     "output_type": "stream",
     "text": [
      "2.128850420122035 408 0.000629090564483775\n"
     ]
    },
    {
     "name": "stdout",
     "output_type": "stream",
     "text": [
      "2.14039457088802 409 0.000626939589719367\n"
     ]
    },
    {
     "name": "stdout",
     "output_type": "stream",
     "text": [
      "2.1519387216540053 410 0.0006247916084161456\n"
     ]
    },
    {
     "name": "stdout",
     "output_type": "stream",
     "text": [
      "2.1634828724199906 410 0.0006238213865080893\n"
     ]
    },
    {
     "name": "stdout",
     "output_type": "stream",
     "text": [
      "2.175027023185976 411 0.0006192101251722428\n"
     ]
    },
    {
     "name": "stdout",
     "output_type": "stream",
     "text": [
      "2.186571173951961 411 0.0006182480914582379\n"
     ]
    },
    {
     "name": "stdout",
     "output_type": "stream",
     "text": [
      "2.1981153247179464 411 0.0006172874694021094\n"
     ]
    },
    {
     "name": "stdout",
     "output_type": "stream",
     "text": [
      "2.2096594754839316 411 0.0006163282570288091\n"
     ]
    },
    {
     "name": "stdout",
     "output_type": "stream",
     "text": [
      "2.221203626249917 411 0.0006153704523659116\n"
     ]
    },
    {
     "name": "stdout",
     "output_type": "stream",
     "text": [
      "2.232747777015902 411 0.0006144140534435887\n"
     ]
    },
    {
     "name": "stdout",
     "output_type": "stream",
     "text": [
      "2.2442919277818874 411 0.0006134590582946338\n"
     ]
    },
    {
     "name": "stdout",
     "output_type": "stream",
     "text": [
      "2.2558360785478726 411 0.0006125054649544538\n"
     ]
    },
    {
     "name": "stdout",
     "output_type": "stream",
     "text": [
      "2.267380229313858 411 0.0006115532714610489\n"
     ]
    },
    {
     "name": "stdout",
     "output_type": "stream",
     "text": [
      "2.278924380079843 411 0.0006106024758549512\n"
     ]
    },
    {
     "name": "stdout",
     "output_type": "stream",
     "text": [
      "2.2904685308458284 412 0.0006077472909093884\n"
     ]
    },
    {
     "name": "stdout",
     "output_type": "stream",
     "text": [
      "2.3020126816118136 412 0.000606802083704403\n"
     ]
    },
    {
     "name": "stdout",
     "output_type": "stream",
     "text": [
      "2.313556832377799 412 0.0006058582646034251\n"
     ]
    },
    {
     "name": "stdout",
     "output_type": "stream",
     "text": [
      "2.325100983143784 412 0.0006049158316620444\n"
     ]
    },
    {
     "name": "stdout",
     "output_type": "stream",
     "text": [
      "2.3366451339097694 412 0.0006039747829384959\n"
     ]
    },
    {
     "name": "stdout",
     "output_type": "stream",
     "text": [
      "2.3481892846757546 412 0.0006030351164936827\n"
     ]
    },
    {
     "name": "stdout",
     "output_type": "stream",
     "text": [
      "2.35973343544174 412 0.0006020968303911216\n"
     ]
    },
    {
     "name": "stdout",
     "output_type": "stream",
     "text": [
      "2.371277586207725 413 0.0005997809961487625\n"
     ]
    },
    {
     "name": "stdout",
     "output_type": "stream",
     "text": [
      "2.3828217369737104 413 0.0005988474909795146\n"
     ]
    },
    {
     "name": "stdout",
     "output_type": "stream",
     "text": [
      "2.3943658877396956 413 0.0005979153575185195\n"
     ]
    },
    {
     "name": "stdout",
     "output_type": "stream",
     "text": [
      "2.405910038505681 413 0.000596984593842973\n"
     ]
    },
    {
     "name": "stdout",
     "output_type": "stream",
     "text": [
      "2.417454189271666 413 0.0005960551980326493\n"
     ]
    },
    {
     "name": "stdout",
     "output_type": "stream",
     "text": [
      "2.4289983400376514 413 0.0005951271681699334\n"
     ]
    },
    {
     "name": "stdout",
     "output_type": "stream",
     "text": [
      "2.4405424908036366 413 0.0005942005023397272\n"
     ]
    },
    {
     "name": "stdout",
     "output_type": "stream",
     "text": [
      "2.452086641569622 413 0.0005932751986293668\n"
     ]
    },
    {
     "name": "stdout",
     "output_type": "stream",
     "text": [
      "2.463630792335607 414 0.0005792329672177317\n"
     ]
    },
    {
     "name": "stdout",
     "output_type": "stream",
     "text": [
      "2.4751749431015924 414 0.0005783296773904188\n"
     ]
    },
    {
     "name": "stdout",
     "output_type": "stream",
     "text": [
      "2.4867190938675776 414 0.0005774277168856799\n"
     ]
    },
    {
     "name": "stdout",
     "output_type": "stream",
     "text": [
      "2.498263244633563 414 0.0005765270838371726\n"
     ]
    },
    {
     "name": "stdout",
     "output_type": "stream",
     "text": [
      "2.509807395399548 414 0.0005756277763810601\n"
     ]
    },
    {
     "name": "stdout",
     "output_type": "stream",
     "text": [
      "2.5213515461655334 414 0.0005747297926560344\n"
     ]
    },
    {
     "name": "stdout",
     "output_type": "stream",
     "text": [
      "2.5328956969315186 414 0.000573833130803267\n"
     ]
    },
    {
     "name": "stdout",
     "output_type": "stream",
     "text": [
      "2.544439847697504 414 0.0005729377889663338\n"
     ]
    },
    {
     "name": "stdout",
     "output_type": "stream",
     "text": [
      "2.555983998463489 414 0.0005720438669713134\n"
     ]
    },
    {
     "name": "stdout",
     "output_type": "stream",
     "text": [
      "2.5675281492294744 414 0.0005711512971913358\n"
     ]
    },
    {
     "name": "stdout",
     "output_type": "stream",
     "text": [
      "2.5790722999954596 414 0.0005702600414385477\n"
     ]
    },
    {
     "name": "stdout",
     "output_type": "stream",
     "text": [
      "2.590616450761445 414 0.0005693700978700188\n"
     ]
    },
    {
     "name": "stdout",
     "output_type": "stream",
     "text": [
      "2.60216060152743 414 0.0005684814646450757\n"
     ]
    },
    {
     "name": "stdout",
     "output_type": "stream",
     "text": [
      "2.6137047522934154 414 0.0005675941399252531\n"
     ]
    },
    {
     "name": "stdout",
     "output_type": "stream",
     "text": [
      "2.6252489030594006 414 0.0005667081218743016\n"
     ]
    },
    {
     "name": "stdout",
     "output_type": "stream",
     "text": [
      "2.636793053825386 414 0.0005658234086582673\n"
     ]
    },
    {
     "name": "stdout",
     "output_type": "stream",
     "text": [
      "2.648337204591371 414 0.0005649399984456023\n"
     ]
    },
    {
     "name": "stdout",
     "output_type": "stream",
     "text": [
      "2.6598813553573564 414 0.0005640578894072592\n"
     ]
    },
    {
     "name": "stdout",
     "output_type": "stream",
     "text": [
      "2.6714255061233416 414 0.0005631770797166547\n"
     ]
    },
    {
     "name": "stdout",
     "output_type": "stream",
     "text": [
      "2.682969656889327 414 0.0005622975675495474\n"
     ]
    },
    {
     "name": "stdout",
     "output_type": "stream",
     "text": [
      "2.694513807655312 415 0.000560043950557804\n"
     ]
    },
    {
     "name": "stdout",
     "output_type": "stream",
     "text": [
      "2.7060579584212974 415 0.000559169054539103\n"
     ]
    },
    {
     "name": "stdout",
     "output_type": "stream",
     "text": [
      "2.7176021091872826 415 0.0005582954477377723\n"
     ]
    },
    {
     "name": "stdout",
     "output_type": "stream",
     "text": [
      "2.729146259953268 415 0.0005574231283425159\n"
     ]
    },
    {
     "name": "stdout",
     "output_type": "stream",
     "text": [
      "2.740690410719253 416 0.0005553793102153222\n"
     ]
    },
    {
     "name": "stdout",
     "output_type": "stream",
     "text": [
      "2.7522345614852384 416 0.0005545112888792493\n"
     ]
    },
    {
     "name": "stdout",
     "output_type": "stream",
     "text": [
      "2.7637787122512236 416 0.0005536445471002878\n"
     ]
    },
    {
     "name": "stdout",
     "output_type": "stream",
     "text": [
      "2.775322863017209 416 0.0005527790830798596\n"
     ]
    },
    {
     "name": "stdout",
     "output_type": "stream",
     "text": [
      "2.786867013783194 417 0.0005493084191423646\n"
     ]
    },
    {
     "name": "stdout",
     "output_type": "stream",
     "text": [
      "2.7984111645491794 417 0.0005484493487947904\n"
     ]
    },
    {
     "name": "stdout",
     "output_type": "stream",
     "text": [
      "2.8099553153151646 418 0.00027378983159848504\n"
     ]
    },
    {
     "name": "stdout",
     "output_type": "stream",
     "text": [
      "2.82149946608115 419 0.00027090153250312047\n"
     ]
    },
    {
     "name": "stdout",
     "output_type": "stream",
     "text": [
      "2.833043616847135 419 0.00027045862279555493\n"
     ]
    },
    {
     "name": "stdout",
     "output_type": "stream",
     "text": [
      "2.8445877676131204 419 0.00027001638773738087\n"
     ]
    },
    {
     "name": "stdout",
     "output_type": "stream",
     "text": [
      "2.8561319183791056 419 0.00026957482636024853\n"
     ]
    },
    {
     "name": "stdout",
     "output_type": "stream",
     "text": [
      "2.867676069145091 419 0.00026913393769703575\n"
     ]
    },
    {
     "name": "stdout",
     "output_type": "stream",
     "text": [
      "2.879220219911076 419 0.00026869372078185534\n"
     ]
    },
    {
     "name": "stdout",
     "output_type": "stream",
     "text": [
      "2.8907643706770614 419 0.00026825417465009684\n"
     ]
    },
    {
     "name": "stdout",
     "output_type": "stream",
     "text": [
      "2.9023085214430466 419 0.00026781529833841796\n"
     ]
    },
    {
     "name": "stdout",
     "output_type": "stream",
     "text": [
      "2.913852672209032 419 0.00026737709088471134\n"
     ]
    },
    {
     "name": "stdout",
     "output_type": "stream",
     "text": [
      "2.925396822975017 419 0.00026693955132813516\n"
     ]
    },
    {
     "name": "stdout",
     "output_type": "stream",
     "text": [
      "2.9369409737410024 419 0.00026650267870920803\n"
     ]
    },
    {
     "name": "stdout",
     "output_type": "stream",
     "text": [
      "2.9484851245069876 419 0.00026606647206984884\n"
     ]
    },
    {
     "name": "stdout",
     "output_type": "stream",
     "text": [
      "2.960029275272973 419 0.00026563093045334343\n"
     ]
    },
    {
     "name": "stdout",
     "output_type": "stream",
     "text": [
      "2.971573426038958 419 0.00026519605290425757\n"
     ]
    },
    {
     "name": "stdout",
     "output_type": "stream",
     "text": [
      "2.9831175768049434 419 0.00026476183846836166\n"
     ]
    },
    {
     "name": "stdout",
     "output_type": "stream",
     "text": [
      "2.9946617275709286 419 0.00026432828619259434\n"
     ]
    },
    {
     "name": "stdout",
     "output_type": "stream",
     "text": [
      "3.006205878336914 419 0.00026389539512510185\n"
     ]
    },
    {
     "name": "stdout",
     "output_type": "stream",
     "text": [
      "3.017750029102899 419 0.00026346316431526736\n"
     ]
    },
    {
     "name": "stdout",
     "output_type": "stream",
     "text": [
      "3.0292941798688844 419 0.0002630315928137231\n"
     ]
    },
    {
     "name": "stdout",
     "output_type": "stream",
     "text": [
      "3.0408383306348696 419 0.000262600679672331\n"
     ]
    },
    {
     "name": "stdout",
     "output_type": "stream",
     "text": [
      "3.052382481400855 419 0.0002621704239442018\n"
     ]
    },
    {
     "name": "stdout",
     "output_type": "stream",
     "text": [
      "3.06392663216684 419 0.00026174082468374577\n"
     ]
    },
    {
     "name": "stdout",
     "output_type": "stream",
     "text": [
      "3.0754707829328254 419 0.0002613118809466555\n"
     ]
    },
    {
     "name": "stdout",
     "output_type": "stream",
     "text": [
      "3.0870149336988106 419 0.0002608835917898308\n"
     ]
    },
    {
     "name": "stdout",
     "output_type": "stream",
     "text": [
      "3.098559084464796 419 0.0002604559562713599\n"
     ]
    },
    {
     "name": "stdout",
     "output_type": "stream",
     "text": [
      "3.110103235230781 419 0.0002600289734506196\n"
     ]
    },
    {
     "name": "stdout",
     "output_type": "stream",
     "text": [
      "3.1216473859967664 419 0.00025960264238838126\n"
     ]
    },
    {
     "name": "stdout",
     "output_type": "stream",
     "text": [
      "3.1331915367627516 419 0.00025917696214683677\n"
     ]
    },
    {
     "name": "stdout",
     "output_type": "stream",
     "text": [
      "3.144735687528737 419 0.0002587519317895576\n"
     ]
    },
    {
     "name": "stdout",
     "output_type": "stream",
     "text": [
      "3.156279838294722 419 0.0002583275503814614\n"
     ]
    },
    {
     "name": "stdout",
     "output_type": "stream",
     "text": [
      "3.1678239890607074 419 0.00025790381698877673\n"
     ]
    },
    {
     "name": "stdout",
     "output_type": "stream",
     "text": [
      "3.1793681398266926 419 0.00025748073067901977\n"
     ]
    },
    {
     "name": "stdout",
     "output_type": "stream",
     "text": [
      "3.190912290592678 419 0.00025705829052095794\n"
     ]
    },
    {
     "name": "stdout",
     "output_type": "stream",
     "text": [
      "3.202456441358663 419 0.00025663649558458685\n"
     ]
    },
    {
     "name": "stdout",
     "output_type": "stream",
     "text": [
      "3.2140005921246484 419 0.0002562153449411241\n"
     ]
    },
    {
     "name": "stdout",
     "output_type": "stream",
     "text": [
      "3.2255447428906336 419 0.0002557948376630406\n"
     ]
    },
    {
     "name": "stdout",
     "output_type": "stream",
     "text": [
      "3.237088893656619 419 0.00025537497282412605\n"
     ]
    },
    {
     "name": "stdout",
     "output_type": "stream",
     "text": [
      "3.248633044422604 419 0.0002549557494994742\n"
     ]
    },
    {
     "name": "stdout",
     "output_type": "stream",
     "text": [
      "3.2601771951885894 419 0.00025453716676539597\n"
     ]
    },
    {
     "name": "stdout",
     "output_type": "stream",
     "text": [
      "3.2717213459545746 419 0.0002541192236993419\n"
     ]
    },
    {
     "name": "stdout",
     "output_type": "stream",
     "text": [
      "3.28326549672056 419 0.00025370191937994246\n"
     ]
    },
    {
     "name": "stdout",
     "output_type": "stream",
     "text": [
      "3.294809647486545 419 0.00025328525288708905\n"
     ]
    },
    {
     "name": "stdout",
     "output_type": "stream",
     "text": [
      "3.3063537982525304 419 0.0002528692233019708\n"
     ]
    },
    {
     "name": "stdout",
     "output_type": "stream",
     "text": [
      "3.3178979490185156 419 0.0002524538297070596\n"
     ]
    },
    {
     "name": "stdout",
     "output_type": "stream",
     "text": [
      "3.329442099784501 419 0.00025203907118613264\n"
     ]
    },
    {
     "name": "stdout",
     "output_type": "stream",
     "text": [
      "3.340986250550486 419 0.0002516249468243076\n"
     ]
    },
    {
     "name": "stdout",
     "output_type": "stream",
     "text": [
      "3.3525304013164714 419 0.00025121145570801857\n"
     ]
    },
    {
     "name": "stdout",
     "output_type": "stream",
     "text": [
      "3.3640745520824566 419 0.00025079859692492626\n"
     ]
    },
    {
     "name": "stdout",
     "output_type": "stream",
     "text": [
      "3.375618702848442 419 0.0002503863695638608\n"
     ]
    },
    {
     "name": "stdout",
     "output_type": "stream",
     "text": [
      "3.3841305900132284 419 0.0002499747727147816\n"
     ]
    },
    {
     "name": "stdout",
     "output_type": "stream",
     "text": [
      "3.391826690523885 419 0.0002495638054688135\n"
     ]
    },
    {
     "name": "stdout",
     "output_type": "stream",
     "text": [
      "3.399522791034542 419 0.0002491534669183048\n"
     ]
    },
    {
     "name": "stdout",
     "output_type": "stream",
     "text": [
      "3.407218891545199 419 0.00024874375615684287\n"
     ]
    },
    {
     "name": "stdout",
     "output_type": "stream",
     "text": [
      "3.4149149920558557 419 0.000248334672279184\n"
     ]
    },
    {
     "name": "stdout",
     "output_type": "stream",
     "text": [
      "3.4226110925665125 419 0.00024792621438118797\n"
     ]
    },
    {
     "name": "stdout",
     "output_type": "stream",
     "text": [
      "3.4303071930771694 420 0.0002465193353925925\n"
     ]
    },
    {
     "name": "stdout",
     "output_type": "stream",
     "text": [
      "3.438003293587826 420 0.000246113655984307\n"
     ]
    },
    {
     "name": "stdout",
     "output_type": "stream",
     "text": [
      "3.445699394098483 421 0.00023518906632591475\n"
     ]
    },
    {
     "name": "stdout",
     "output_type": "stream",
     "text": [
      "3.45339549460914 421 0.00023480075352648377\n"
     ]
    },
    {
     "name": "stdout",
     "output_type": "stream",
     "text": [
      "3.4610915951197967 421 0.00023441303669435477\n"
     ]
    },
    {
     "name": "stdout",
     "output_type": "stream",
     "text": [
      "3.4687876956304535 421 0.00023402591496681733\n"
     ]
    },
    {
     "name": "stdout",
     "output_type": "stream",
     "text": [
      "3.4764837961411104 421 0.00023363938748228522\n"
     ]
    },
    {
     "name": "stdout",
     "output_type": "stream",
     "text": [
      "3.484179896651767 421 0.0002332534533803034\n"
     ]
    },
    {
     "name": "stdout",
     "output_type": "stream",
     "text": [
      "3.491875997162424 421 0.00023286811180154416\n"
     ]
    },
    {
     "name": "stdout",
     "output_type": "stream",
     "text": [
      "3.499572097673081 421 0.0002324833618878551\n"
     ]
    },
    {
     "name": "stdout",
     "output_type": "stream",
     "text": [
      "3.5072681981837377 422 0.00023030549900576204\n"
     ]
    },
    {
     "name": "stdout",
     "output_type": "stream",
     "text": [
      "3.5149642986943945 422 0.00022992468512052114\n"
     ]
    },
    {
     "name": "stdout",
     "output_type": "stream",
     "text": [
      "3.5226603992050514 422 0.00022954445633963064\n"
     ]
    },
    {
     "name": "stdout",
     "output_type": "stream",
     "text": [
      "3.530356499715708 422 0.00022916481181478046\n"
     ]
    },
    {
     "name": "stdout",
     "output_type": "stream",
     "text": [
      "3.538052600226365 422 0.00022878575069868034\n"
     ]
    },
    {
     "name": "stdout",
     "output_type": "stream",
     "text": [
      "3.545748700737022 422 0.0002284072721450746\n"
     ]
    },
    {
     "name": "stdout",
     "output_type": "stream",
     "text": [
      "3.5534448012476787 422 0.00022802937530874305\n"
     ]
    },
    {
     "name": "stdout",
     "output_type": "stream",
     "text": [
      "3.5611409017583355 422 0.0002276520593454706\n"
     ]
    },
    {
     "name": "stdout",
     "output_type": "stream",
     "text": [
      "3.5688370022689924 422 0.00022727532341207472\n"
     ]
    },
    {
     "name": "stdout",
     "output_type": "stream",
     "text": [
      "3.576533102779649 422 0.00022689916666651495\n"
     ]
    },
    {
     "name": "stdout",
     "output_type": "stream",
     "text": [
      "3.584229203290306 422 0.0002265235882679604\n"
     ]
    },
    {
     "name": "stdout",
     "output_type": "stream",
     "text": [
      "3.591925303800963 422 0.00022614858737675213\n"
     ]
    },
    {
     "name": "stdout",
     "output_type": "stream",
     "text": [
      "3.5996214043116197 422 0.00022577416315433386\n"
     ]
    },
    {
     "name": "stdout",
     "output_type": "stream",
     "text": [
      "3.6073175048222765 422 0.00022540031476324748\n"
     ]
    },
    {
     "name": "stdout",
     "output_type": "stream",
     "text": [
      "3.6150136053329334 422 0.00022502704136717104\n"
     ]
    },
    {
     "name": "stdout",
     "output_type": "stream",
     "text": [
      "3.62270970584359 422 0.00022465434213095382\n"
     ]
    },
    {
     "name": "stdout",
     "output_type": "stream",
     "text": [
      "3.630405806354247 422 0.00022428221622063853\n"
     ]
    },
    {
     "name": "stdout",
     "output_type": "stream",
     "text": [
      "3.638101906864904 422 0.00022391066280344978\n"
     ]
    },
    {
     "name": "stdout",
     "output_type": "stream",
     "text": [
      "3.6457980073755607 422 0.00022353968104777598\n"
     ]
    },
    {
     "name": "stdout",
     "output_type": "stream",
     "text": [
      "3.6534941078862175 422 0.0002231692701231614\n"
     ]
    },
    {
     "name": "stdout",
     "output_type": "stream",
     "text": [
      "3.6611902083968744 422 0.00022279942920027388\n"
     ]
    },
    {
     "name": "stdout",
     "output_type": "stream",
     "text": [
      "3.668886308907531 422 0.00022243015745081535\n"
     ]
    },
    {
     "name": "stdout",
     "output_type": "stream",
     "text": [
      "3.676582409418188 422 0.0002220614540474718\n"
     ]
    },
    {
     "name": "stdout",
     "output_type": "stream",
     "text": [
      "3.684278509928845 422 0.00022169331816397872\n"
     ]
    },
    {
     "name": "stdout",
     "output_type": "stream",
     "text": [
      "3.6919746104395017 422 0.00022132574897523017\n"
     ]
    },
    {
     "name": "stdout",
     "output_type": "stream",
     "text": [
      "3.6996707109501585 422 0.00022095874565729\n"
     ]
    },
    {
     "name": "stdout",
     "output_type": "stream",
     "text": [
      "3.7073668114608154 422 0.0002205923073873426\n"
     ]
    },
    {
     "name": "stdout",
     "output_type": "stream",
     "text": [
      "3.715062911971472 422 0.00022022643334368338\n"
     ]
    },
    {
     "name": "stdout",
     "output_type": "stream",
     "text": [
      "3.722759012482129 422 0.00021986112270573694\n"
     ]
    },
    {
     "name": "stdout",
     "output_type": "stream",
     "text": [
      "3.730455112992786 422 0.00021949637465405072\n"
     ]
    },
    {
     "name": "stdout",
     "output_type": "stream",
     "text": [
      "3.7381512135034427 422 0.00021913218837027763\n"
     ]
    },
    {
     "name": "stdout",
     "output_type": "stream",
     "text": [
      "3.7458473140140995 422 0.00021876856303718653\n"
     ]
    },
    {
     "name": "stdout",
     "output_type": "stream",
     "text": [
      "3.7535434145247564 422 0.0002184054978387029\n"
     ]
    },
    {
     "name": "stdout",
     "output_type": "stream",
     "text": [
      "3.761239515035413 422 0.00021804299195993915\n"
     ]
    },
    {
     "name": "stdout",
     "output_type": "stream",
     "text": [
      "3.76893561554607 422 0.00021768104458718044\n"
     ]
    },
    {
     "name": "stdout",
     "output_type": "stream",
     "text": [
      "3.776631716056727 422 0.00021731965490779138\n"
     ]
    },
    {
     "name": "stdout",
     "output_type": "stream",
     "text": [
      "3.7843278165673837 422 0.0002169588221101116\n"
     ]
    },
    {
     "name": "stdout",
     "output_type": "stream",
     "text": [
      "3.7920239170780405 422 0.00021659854538344468\n"
     ]
    },
    {
     "name": "stdout",
     "output_type": "stream",
     "text": [
      "3.7997200175886974 422 0.00021623882391811678\n"
     ]
    },
    {
     "name": "stdout",
     "output_type": "stream",
     "text": [
      "3.807416118099354 422 0.0002158796569054995\n"
     ]
    },
    {
     "name": "stdout",
     "output_type": "stream",
     "text": [
      "3.815112218610011 422 0.0002155210435379836\n"
     ]
    },
    {
     "name": "stdout",
     "output_type": "stream",
     "text": [
      "3.822808319120668 422 0.00021516298300900324\n"
     ]
    },
    {
     "name": "stdout",
     "output_type": "stream",
     "text": [
      "3.8305044196313247 422 0.00021480547451309016\n"
     ]
    },
    {
     "name": "stdout",
     "output_type": "stream",
     "text": [
      "3.8382005201419815 422 0.00021444851724585843\n"
     ]
    },
    {
     "name": "stdout",
     "output_type": "stream",
     "text": [
      "3.8458966206526384 422 0.00021409211040393955\n"
     ]
    },
    {
     "name": "stdout",
     "output_type": "stream",
     "text": [
      "3.853592721163295 422 0.00021373625318497547\n"
     ]
    },
    {
     "name": "stdout",
     "output_type": "stream",
     "text": [
      "3.861288821673952 422 0.00021338094478767758\n"
     ]
    },
    {
     "name": "stdout",
     "output_type": "stream",
     "text": [
      "3.868984922184609 422 0.00021302618441190814\n"
     ]
    },
    {
     "name": "stdout",
     "output_type": "stream",
     "text": [
      "3.8766810226952657 422 0.00021267197125870584\n"
     ]
    },
    {
     "name": "stdout",
     "output_type": "stream",
     "text": [
      "3.8843771232059225 422 0.0002123183045302622\n"
     ]
    },
    {
     "name": "stdout",
     "output_type": "stream",
     "text": [
      "3.8920732237165794 422 0.0002119651834298475\n"
     ]
    },
    {
     "name": "stdout",
     "output_type": "stream",
     "text": [
      "3.899769324227236 422 0.00021161260716177864\n"
     ]
    },
    {
     "name": "stdout",
     "output_type": "stream",
     "text": [
      "3.907465424737893 422 0.0002112605749314222\n"
     ]
    },
    {
     "name": "stdout",
     "output_type": "stream",
     "text": [
      "3.91516152524855 422 0.00021090908594517156\n"
     ]
    },
    {
     "name": "stdout",
     "output_type": "stream",
     "text": [
      "3.9228576257592067 422 0.0002105581394104115\n"
     ]
    },
    {
     "name": "stdout",
     "output_type": "stream",
     "text": [
      "3.9305537262698635 422 0.00021020773453556815\n"
     ]
    },
    {
     "name": "stdout",
     "output_type": "stream",
     "text": [
      "3.9382498267805204 422 0.00020985787053019945\n"
     ]
    },
    {
     "name": "stdout",
     "output_type": "stream",
     "text": [
      "3.945945927291177 422 0.00020950854660500333\n"
     ]
    },
    {
     "name": "stdout",
     "output_type": "stream",
     "text": [
      "3.953642027801834 422 0.00020915976197173944\n"
     ]
    },
    {
     "name": "stdout",
     "output_type": "stream",
     "text": [
      "3.961338128312491 422 0.00020881151584319828\n"
     ]
    },
    {
     "name": "stdout",
     "output_type": "stream",
     "text": [
      "3.9690342288231477 422 0.0002084638074332438\n"
     ]
    },
    {
     "name": "stdout",
     "output_type": "stream",
     "text": [
      "3.9767303293338045 422 0.00020811663595686936\n"
     ]
    },
    {
     "name": "stdout",
     "output_type": "stream",
     "text": [
      "3.9844264298444614 422 0.0002077700006302347\n"
     ]
    },
    {
     "name": "stdout",
     "output_type": "stream",
     "text": [
      "3.992122530355118 423 0.00020626884538110758\n"
     ]
    },
    {
     "name": "stdout",
     "output_type": "stream",
     "text": [
      "3.999818630865775 423 0.00020592506443471327\n"
     ]
    },
    {
     "name": "stdout",
     "output_type": "stream",
     "text": [
      "4.007518068654463 423 0.00020558181468881102\n"
     ]
    },
    {
     "name": "stdout",
     "output_type": "stream",
     "text": [
      "4.0152141691651195 423 0.00020523909536776703\n"
     ]
    },
    {
     "name": "stdout",
     "output_type": "stream",
     "text": [
      "4.022910269675776 423 0.00020489690569707987\n"
     ]
    },
    {
     "name": "stdout",
     "output_type": "stream",
     "text": [
      "4.030606370186433 423 0.00020455524490334888\n"
     ]
    },
    {
     "name": "stdout",
     "output_type": "stream",
     "text": [
      "4.03830247069709 423 0.00020421411221420855\n"
     ]
    },
    {
     "name": "stdout",
     "output_type": "stream",
     "text": [
      "4.045998571207747 423 0.0002038735068583258\n"
     ]
    },
    {
     "name": "stdout",
     "output_type": "stream",
     "text": [
      "4.053694671718404 423 0.00020353342806541871\n"
     ]
    },
    {
     "name": "stdout",
     "output_type": "stream",
     "text": [
      "4.0613907722290605 423 0.0002031938750662406\n"
     ]
    },
    {
     "name": "stdout",
     "output_type": "stream",
     "text": [
      "4.069086872739717 423 0.0002028548470925793\n"
     ]
    },
    {
     "name": "stdout",
     "output_type": "stream",
     "text": [
      "4.076782973250374 423 0.00020251634337730722\n"
     ]
    },
    {
     "name": "stdout",
     "output_type": "stream",
     "text": [
      "4.084479073761031 423 0.00020217836315444932\n"
     ]
    },
    {
     "name": "stdout",
     "output_type": "stream",
     "text": [
      "4.092175174271688 423 0.00020184090565920755\n"
     ]
    },
    {
     "ename": "InterruptException",
     "evalue": "InterruptException:",
     "output_type": "error",
     "traceback": [
      "InterruptException:\n",
      "\n",
      "Stacktrace:\n",
      "  [1] matter_power_spectrum(k_Mpc::Float64, z::Int64; cosmology::Main.Cosmojuly.PowerSpectrum.Cosmology, growth_function::typeof(Main.Cosmojuly.BackgroundCosmo.growth_factor_Carroll), dimensionless::Bool, with_baryons::Bool)\n",
      "    @ Main.Cosmojuly.PowerSpectrum ~/Documents/work/codes/env_DarkUniverse/Cosmojuly.jl/src/PowerSpectrum.jl:66\n",
      "  [2] #5\n",
      "    @ ~/Documents/work/codes/env_DarkUniverse/Cosmojuly.jl/src/PowerSpectrum.jl:149 [inlined]\n",
      "  [3] #9\n",
      "    @ ~/Documents/work/codes/env_DarkUniverse/Cosmojuly.jl/src/PowerSpectrum.jl:166 [inlined]\n",
      "  [4] evalrule(f::Main.Cosmojuly.PowerSpectrum.var\"#9#10\"{Main.Cosmojuly.PowerSpectrum.var\"#5#6\"{Main.Cosmojuly.PowerSpectrum.Cosmology}}, a::Float64, b::Float64, x::Vector{Float64}, w::Vector{Float64}, gw::Vector{Float64}, nrm::typeof(LinearAlgebra.norm))\n",
      "    @ QuadGK ~/.julia/packages/QuadGK/XqIlh/src/evalrule.jl:29\n",
      "  [5] #2\n",
      "    @ ~/.julia/packages/QuadGK/XqIlh/src/adapt.jl:10 [inlined]\n",
      "  [6] ntuple\n",
      "    @ ./ntuple.jl:48 [inlined]\n",
      "  [7] do_quadgk(f::Main.Cosmojuly.PowerSpectrum.var\"#9#10\"{Main.Cosmojuly.PowerSpectrum.var\"#5#6\"{Main.Cosmojuly.PowerSpectrum.Cosmology}}, s::Tuple{Float64, Float64}, n::Int64, atol::Nothing, rtol::Float64, maxevals::Int64, nrm::typeof(LinearAlgebra.norm), segbuf::Nothing)\n",
      "    @ QuadGK ~/.julia/packages/QuadGK/XqIlh/src/adapt.jl:10\n",
      "  [8] #46\n",
      "    @ ~/.julia/packages/QuadGK/XqIlh/src/adapt.jl:219 [inlined]\n",
      "  [9] handle_infinities(workfunc::QuadGK.var\"#46#47\"{Nothing, Float64, Int64, Int64, typeof(LinearAlgebra.norm), Nothing}, f::Main.Cosmojuly.PowerSpectrum.var\"#9#10\"{Main.Cosmojuly.PowerSpectrum.var\"#5#6\"{Main.Cosmojuly.PowerSpectrum.Cosmology}}, s::Tuple{Float64, Float64})\n",
      "    @ QuadGK ~/.julia/packages/QuadGK/XqIlh/src/adapt.jl:118\n",
      " [10] #quadgk#45\n",
      "    @ ~/.julia/packages/QuadGK/XqIlh/src/adapt.jl:218 [inlined]\n",
      " [11] σ²\n",
      "    @ ~/Documents/work/codes/env_DarkUniverse/Cosmojuly.jl/src/PowerSpectrum.jl:166 [inlined]\n",
      " [12] #σ²#4\n",
      "    @ ~/Documents/work/codes/env_DarkUniverse/Cosmojuly.jl/src/PowerSpectrum.jl:149 [inlined]\n",
      " [13] σ²_vs_M(M_Msun::Float64, ::Type{Main.Cosmojuly.PowerSpectrum.SharpK}; cosmology::Main.Cosmojuly.PowerSpectrum.Cosmology)\n",
      "    @ Main.Cosmojuly.PowerSpectrum ~/Documents/work/codes/env_DarkUniverse/Cosmojuly.jl/src/PowerSpectrum.jl:181\n",
      " [14] (::Main.Cosmojuly.MassFunction.var\"#_integrand#8\")(M2::Float64, S1::Float64, cosmology::Main.Cosmojuly.PowerSpectrum.Cosmology)\n",
      "    @ Main.Cosmojuly.MassFunction ~/Documents/work/codes/env_DarkUniverse/Cosmojuly.jl/src/MassFunction.jl:77\n",
      " [15] (::Main.Cosmojuly.MassFunction.var\"#7#9\"{Main.Cosmojuly.PowerSpectrum.Cosmology, Float64})(lnM2::Float64)\n",
      "    @ Main.Cosmojuly.MassFunction ~/Documents/work/codes/env_DarkUniverse/Cosmojuly.jl/src/MassFunction.jl:85\n",
      " [16] evalrule(f::Main.Cosmojuly.MassFunction.var\"#7#9\"{Main.Cosmojuly.PowerSpectrum.Cosmology, Float64}, a::Float64, b::Float64, x::Vector{Float64}, w::Vector{Float64}, gw::Vector{Float64}, nrm::typeof(LinearAlgebra.norm))\n",
      "    @ QuadGK ~/.julia/packages/QuadGK/XqIlh/src/evalrule.jl:25\n",
      " [17] #2\n",
      "    @ ~/.julia/packages/QuadGK/XqIlh/src/adapt.jl:10 [inlined]\n",
      " [18] ntuple\n",
      "    @ ./ntuple.jl:48 [inlined]\n",
      " [19] do_quadgk(f::Main.Cosmojuly.MassFunction.var\"#7#9\"{Main.Cosmojuly.PowerSpectrum.Cosmology, Float64}, s::Tuple{Float64, Float64}, n::Int64, atol::Nothing, rtol::Float64, maxevals::Int64, nrm::typeof(LinearAlgebra.norm), segbuf::Nothing)\n",
      "    @ QuadGK ~/.julia/packages/QuadGK/XqIlh/src/adapt.jl:10\n",
      " [20] #46\n",
      "    @ ~/.julia/packages/QuadGK/XqIlh/src/adapt.jl:219 [inlined]\n",
      " [21] handle_infinities(workfunc::QuadGK.var\"#46#47\"{Nothing, Float64, Int64, Int64, typeof(LinearAlgebra.norm), Nothing}, f::Main.Cosmojuly.MassFunction.var\"#7#9\"{Main.Cosmojuly.PowerSpectrum.Cosmology, Float64}, s::Tuple{Float64, Float64})\n",
      "    @ QuadGK ~/.julia/packages/QuadGK/XqIlh/src/adapt.jl:118\n",
      " [22] quadgk(::Function, ::Float64, ::Vararg{Float64}; atol::Nothing, rtol::Float64, maxevals::Int64, order::Int64, norm::Function, segbuf::Nothing)\n",
      "    @ QuadGK ~/.julia/packages/QuadGK/XqIlh/src/adapt.jl:218\n",
      " [23] mean_number_progenitors(M::Float64, M1::Float64, Mres::Float64; cosmology::Main.Cosmojuly.PowerSpectrum.Cosmology)\n",
      "    @ Main.Cosmojuly.MassFunction ~/Documents/work/codes/env_DarkUniverse/Cosmojuly.jl/src/MassFunction.jl:85\n",
      " [24] subhalo_mass_function(Mhost_init::Float64, Mres::Float64; cosmology::Main.Cosmojuly.PowerSpectrum.Cosmology, growth_function::Function, δ_c::Float64)\n",
      "    @ Main.Cosmojuly.MassFunction ~/Documents/work/codes/env_DarkUniverse/Cosmojuly.jl/src/MassFunction.jl:155\n",
      " [25] subhalo_mass_function(Mhost_init::Float64, Mres::Float64)\n",
      "    @ Main.Cosmojuly.MassFunction ~/Documents/work/codes/env_DarkUniverse/Cosmojuly.jl/src/MassFunction.jl:132\n",
      " [26] eval\n",
      "    @ ./boot.jl:368 [inlined]\n",
      " [27] include_string(mapexpr::typeof(REPL.softscope), mod::Module, code::String, filename::String)\n",
      "    @ Base ./loading.jl:1428\n",
      " [28] #invokelatest#2\n",
      "    @ ./essentials.jl:729 [inlined]\n",
      " [29] invokelatest\n",
      "    @ ./essentials.jl:726 [inlined]\n",
      " [30] (::VSCodeServer.var\"#198#199\"{VSCodeServer.NotebookRunCellArguments, String})()\n",
      "    @ VSCodeServer ~/.vscode/extensions/julialang.language-julia-1.47.2/scripts/packages/VSCodeServer/src/serve_notebook.jl:19\n",
      " [31] withpath(f::VSCodeServer.var\"#198#199\"{VSCodeServer.NotebookRunCellArguments, String}, path::String)\n",
      "    @ VSCodeServer ~/.vscode/extensions/julialang.language-julia-1.47.2/scripts/packages/VSCodeServer/src/repl.jl:249\n",
      " [32] notebook_runcell_request(conn::VSCodeServer.JSONRPC.JSONRPCEndpoint{Base.PipeEndpoint, Base.PipeEndpoint}, params::VSCodeServer.NotebookRunCellArguments)\n",
      "    @ VSCodeServer ~/.vscode/extensions/julialang.language-julia-1.47.2/scripts/packages/VSCodeServer/src/serve_notebook.jl:13\n",
      " [33] dispatch_msg(x::VSCodeServer.JSONRPC.JSONRPCEndpoint{Base.PipeEndpoint, Base.PipeEndpoint}, dispatcher::VSCodeServer.JSONRPC.MsgDispatcher, msg::Dict{String, Any})\n",
      "    @ VSCodeServer.JSONRPC ~/.vscode/extensions/julialang.language-julia-1.47.2/scripts/packages/JSONRPC/src/typed.jl:67\n",
      " [34] serve_notebook(pipename::String, outputchannel_logger::Base.CoreLogging.SimpleLogger; crashreporting_pipename::String)\n",
      "    @ VSCodeServer ~/.vscode/extensions/julialang.language-julia-1.47.2/scripts/packages/VSCodeServer/src/serve_notebook.jl:139\n",
      " [35] top-level scope\n",
      "    @ ~/.vscode/extensions/julialang.language-julia-1.47.2/scripts/notebook/notebook.jl:32"
     ]
    }
   ],
   "source": [
    "#cj.cumulative_progenitors(9.998215795129126e11/2.0, 9.998215795129126e11, 1e+8)\n",
    "#cj.draw_mass_with_restrictions(9.998215795129126e11, 1e+8)\n",
    "#cj.Δω_approx(1e+12, 1e+8)\n",
    "#cj.redshift_array(0, 0.5*cj.Δω_approx(1e+12, 1e+8))\n",
    "cj.subhalo_mass_function(1e+12, 1e+6)"
   ]
  },
  {
   "cell_type": "code",
   "execution_count": null,
   "metadata": {},
   "outputs": [],
   "source": []
  }
 ],
 "metadata": {
  "kernelspec": {
   "display_name": "Julia 1.8.5",
   "language": "julia",
   "name": "julia-1.8"
  },
  "language_info": {
   "file_extension": ".jl",
   "mimetype": "application/julia",
   "name": "julia",
   "version": "1.8.5"
  },
  "orig_nbformat": 4
 },
 "nbformat": 4,
 "nbformat_minor": 2
}
