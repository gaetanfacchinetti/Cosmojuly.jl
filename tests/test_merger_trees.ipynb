{
 "cells": [
  {
   "cell_type": "code",
   "execution_count": 80,
   "metadata": {},
   "outputs": [
    {
     "name": "stderr",
     "output_type": "stream",
     "text": [
      "WARNING: replacing module Cosmojuly.\n"
     ]
    }
   ],
   "source": [
    "using BenchmarkTools\n",
    "\n",
    "include(\"../src/Cosmojuly.jl\")\n",
    "import .Cosmojuly as cj"
   ]
  },
  {
   "cell_type": "code",
   "execution_count": 46,
   "metadata": {},
   "outputs": [
    {
     "name": "stdout",
     "output_type": "stream",
     "text": [
      "1.0237392587587237 83 0.15456012666655014\n"
     ]
    },
    {
     "name": "stdout",
     "output_type": "stream",
     "text": [
      "3.791562151047401 137 0.01692825902125903\n"
     ]
    },
    {
     "data": {
      "text/plain": [
       "([0.00011049404064322792, 0.0009600991340222815, 0.00015408779732678225, 0.007053206938127128, 0.0002895352005843468, 0.0002451888019551688, 0.00013939555477534627, 0.0006423219281683053, 0.0002218967241473113, 0.00011806154100600224  …  0.00014438337789451344, 0.0013532950159385886, 0.0016818156324327855, 0.0002900654566719578, 0.0009664927706517039, 0.0007744623462477481, 0.00015442512728832875, 0.00012814147197611682, 0.0004351776348480336, 0.00013038605773452823], [0.014428627977395081, 0.015813936921404093, 0.01825360078328231, 0.03303032390704175, 0.03445061520596937, 0.043027498344599735, 0.04617905150371371, 0.0486412024092715, 0.0491184808925027, 0.053489745730985305  …  4.279990811133757, 4.803248684853315, 4.848709550569765, 5.960888427565806, 5.984900261159055, 6.0987486760132015, 6.56951914425008, 7.529946311376989, 7.946505447616801, 8.533726654946804])"
      ]
     },
     "metadata": {},
     "output_type": "display_data"
    }
   ],
   "source": [
    "subhalo_mass1, _ = cj.subhalo_mass_function(1e+12, 1e+8)"
   ]
  },
  {
   "cell_type": "code",
   "execution_count": 81,
   "metadata": {},
   "outputs": [
    {
     "ename": "DimensionMismatch",
     "evalue": "DimensionMismatch: arrays could not be broadcast to a common size; got a dimension with lengths 10 and 2",
     "output_type": "error",
     "traceback": [
      "DimensionMismatch: arrays could not be broadcast to a common size; got a dimension with lengths 10 and 2\n",
      "\n",
      "Stacktrace:\n",
      " [1] _bcs1\n",
      "   @ ./broadcast.jl:516 [inlined]\n",
      " [2] _bcs\n",
      "   @ ./broadcast.jl:510 [inlined]\n",
      " [3] broadcast_shape\n",
      "   @ ./broadcast.jl:504 [inlined]\n",
      " [4] combine_axes\n",
      "   @ ./broadcast.jl:499 [inlined]\n",
      " [5] instantiate\n",
      "   @ ./broadcast.jl:281 [inlined]\n",
      " [6] materialize(bc::Base.Broadcast.Broadcasted{Base.Broadcast.DefaultArrayStyle{1}, Nothing, typeof(&), Tuple{Vector{Bool}, Base.Broadcast.Broadcasted{Base.Broadcast.DefaultArrayStyle{1}, Nothing, typeof(&), Tuple{Base.Broadcast.Broadcasted{Base.Broadcast.DefaultArrayStyle{1}, Nothing, typeof(==), Tuple{Vector{Float64}, Float64}}, Base.Broadcast.Broadcasted{Base.Broadcast.DefaultArrayStyle{1}, Nothing, typeof(==), Tuple{Vector{Float64}, Float64}}}}}})\n",
      "   @ Base.Broadcast ./broadcast.jl:860\n",
      " [7] subhalo_mass_function_array(Mhost_init::Float64, Mres::Float64; cosmology::Main.Cosmojuly.PowerSpectrum.Cosmology, growth_function::Function, δ_c::Float64)\n",
      "   @ Main.Cosmojuly.MassFunction ~/Documents/work/codes/env_DarkUniverse/Cosmojuly.jl/src/MassFunction.jl:299\n",
      " [8] subhalo_mass_function_array(Mhost_init::Float64, Mres::Float64)\n",
      "   @ Main.Cosmojuly.MassFunction ~/Documents/work/codes/env_DarkUniverse/Cosmojuly.jl/src/MassFunction.jl:251\n",
      " [9] top-level scope\n",
      "   @ ~/Documents/work/codes/env_DarkUniverse/Cosmojuly.jl/tests/test_merger_trees.ipynb:1"
     ]
    }
   ],
   "source": [
    "subhalo_mass = cj.subhalo_mass_function_array(1e+12, 1e+8)\n",
    "#@benchmark cj.one_step_merger_tree([0.1, 0.8], [0.01, 0.01], [1e+10, 1e+10], 1e+8, cj.planck18, x->x^2)\n",
    "#@benchmark cj.one_step_merger_tree(0.1, 0.01, 1e+10, 1e+8)"
   ]
  },
  {
   "cell_type": "code",
   "execution_count": 48,
   "metadata": {},
   "outputs": [
    {
     "ename": "UndefVarError",
     "evalue": "UndefVarError: subhalo_mass2 not defined",
     "output_type": "error",
     "traceback": [
      "UndefVarError: subhalo_mass2 not defined\n",
      "\n",
      "Stacktrace:\n",
      " [1] (::var\"#33#35\")(m::Float64)\n",
      "   @ Main ./none:0\n",
      " [2] iterate\n",
      "   @ ./generator.jl:47 [inlined]\n",
      " [3] collect(itr::Base.Generator{Vector{Float64}, var\"#33#35\"})\n",
      "   @ Base ./array.jl:787\n",
      " [4] top-level scope\n",
      "   @ ~/Documents/work/codes/env_DarkUniverse/Cosmojuly.jl/tests/test_merger_trees.ipynb:3"
     ]
    }
   ],
   "source": [
    "m_array = 10.0.^range(-9, stop=1, length=3000)\n",
    "CMF1 = [count(x -> x > m, subhalo_mass1) for m in m_array]\n",
    "CMF2 = [count(x -> x > m, subhalo_mass2) for m in m_array]\n",
    "CMF3 = [count(x -> x > m, subhalo_mass3) for m in m_array]\n",
    "CMF4 = [count(x -> x > m, subhalo_mass4) for m in m_array]\n",
    "CMF5 = [count(x -> x > m, subhalo_mass5) for m in m_array]\n",
    "\n",
    "plot(m_array[CMF1 .> 0], CMF1[CMF1 .> 0], xscale=:log10, yscale=:log10)\n",
    "plot!(m_array[CMF2 .> 0], CMF2[CMF2 .> 0], xscale=:log10, yscale=:log10)\n",
    "plot!(m_array[CMF3 .> 0], CMF3[CMF3 .> 0], xscale=:log10, yscale=:log10)\n",
    "plot!(m_array[CMF4 .> 0], CMF4[CMF4 .> 0], xscale=:log10, yscale=:log10)\n",
    "plot!(m_array[CMF5 .> 0], CMF5[CMF5 .> 0], xscale=:log10, yscale=:log10)"
   ]
  },
  {
   "cell_type": "code",
   "execution_count": 49,
   "metadata": {},
   "outputs": [
    {
     "ename": "UndefVarError",
     "evalue": "UndefVarError: subhalo_mass not defined",
     "output_type": "error",
     "traceback": [
      "UndefVarError: subhalo_mass not defined\n",
      "\n",
      "Stacktrace:\n",
      " [1] top-level scope\n",
      "   @ ~/Documents/work/codes/env_DarkUniverse/Cosmojuly.jl/tests/test_merger_trees.ipynb:2"
     ]
    }
   ],
   "source": [
    "m_array = 10.0.^range(-4, stop=1, length=3000)\n",
    "CMF = [[count(x -> x > m, sub_mass) for m in m_array] for sub_mass in subhalo_mass]\n",
    "\n",
    "for sub_mass in subhalo_mass\n",
    "    CMF = [count(x -> x > m, sub_mass) for m in m_array]\n",
    "    plot!(m_array[CMF .> 0], CMF[CMF .> 0], xscale=:log10, yscale=:log10)"
   ]
  },
  {
   "cell_type": "code",
   "execution_count": 50,
   "metadata": {},
   "outputs": [
    {
     "ename": "UndefVarError",
     "evalue": "UndefVarError: subhalo_mass not defined",
     "output_type": "error",
     "traceback": [
      "UndefVarError: subhalo_mass not defined\n",
      "\n",
      "Stacktrace:\n",
      " [1] top-level scope\n",
      "   @ ~/Documents/work/codes/env_DarkUniverse/Cosmojuly.jl/tests/test_merger_trees.ipynb:4"
     ]
    }
   ],
   "source": [
    "using StatsBase\n",
    "using Plots\n",
    "\n",
    "result = fit(Histogram, log10.(subhalo_mass), nbins=50)\n",
    "result = \n",
    "println(size(result.edges[1]), size(result.weights))\n",
    "\n",
    "plot(result.edges[1][2:end], log10.(result.weights), st=:stairs)"
   ]
  },
  {
   "cell_type": "code",
   "execution_count": 51,
   "metadata": {},
   "outputs": [
    {
     "data": {
      "text/plain": [
       "BenchmarkTools.Trial: 10000 samples with 202 evaluations.\n",
       " Range \u001b[90m(\u001b[39m\u001b[36m\u001b[1mmin\u001b[22m\u001b[39m … \u001b[35mmax\u001b[39m\u001b[90m):  \u001b[39m\u001b[36m\u001b[1m401.609 ns\u001b[22m\u001b[39m … \u001b[35m56.302 μs\u001b[39m  \u001b[90m┊\u001b[39m GC \u001b[90m(\u001b[39mmin … max\u001b[90m): \u001b[39m 0.00% … 98.98%\n",
       " Time  \u001b[90m(\u001b[39m\u001b[34m\u001b[1mmedian\u001b[22m\u001b[39m\u001b[90m):     \u001b[39m\u001b[34m\u001b[1m415.842 ns              \u001b[22m\u001b[39m\u001b[90m┊\u001b[39m GC \u001b[90m(\u001b[39mmedian\u001b[90m):    \u001b[39m 0.00%\n",
       " Time  \u001b[90m(\u001b[39m\u001b[32m\u001b[1mmean\u001b[22m\u001b[39m ± \u001b[32mσ\u001b[39m\u001b[90m):   \u001b[39m\u001b[32m\u001b[1m511.004 ns\u001b[22m\u001b[39m ± \u001b[32m 2.107 μs\u001b[39m  \u001b[90m┊\u001b[39m GC \u001b[90m(\u001b[39mmean ± σ\u001b[90m):  \u001b[39m16.46% ±  3.96%\n",
       "\n",
       "  \u001b[39m \u001b[39m▅\u001b[39m█\u001b[39m▁\u001b[34m \u001b[39m\u001b[39m \u001b[39m \u001b[39m \u001b[39m \u001b[39m \u001b[39m \u001b[39m \u001b[39m \u001b[39m \u001b[39m \u001b[39m \u001b[39m \u001b[39m \u001b[39m \u001b[39m \u001b[39m \u001b[39m \u001b[39m \u001b[39m \u001b[39m \u001b[39m \u001b[39m \u001b[39m \u001b[39m \u001b[39m \u001b[39m \u001b[39m \u001b[39m \u001b[32m \u001b[39m\u001b[39m \u001b[39m \u001b[39m \u001b[39m \u001b[39m \u001b[39m \u001b[39m \u001b[39m \u001b[39m \u001b[39m \u001b[39m \u001b[39m \u001b[39m \u001b[39m \u001b[39m \u001b[39m \u001b[39m \u001b[39m \u001b[39m \u001b[39m \u001b[39m \u001b[39m \u001b[39m \u001b[39m \u001b[39m \u001b[39m \u001b[39m \u001b[39m \n",
       "  \u001b[39m▃\u001b[39m█\u001b[39m█\u001b[39m█\u001b[34m▅\u001b[39m\u001b[39m▆\u001b[39m▇\u001b[39m▆\u001b[39m▄\u001b[39m▄\u001b[39m▃\u001b[39m▃\u001b[39m▂\u001b[39m▂\u001b[39m▂\u001b[39m▂\u001b[39m▂\u001b[39m▁\u001b[39m▁\u001b[39m▂\u001b[39m▁\u001b[39m▁\u001b[39m▁\u001b[39m▁\u001b[39m▁\u001b[39m▁\u001b[39m▁\u001b[39m▁\u001b[39m▁\u001b[39m▁\u001b[39m▁\u001b[39m▁\u001b[39m▁\u001b[32m▁\u001b[39m\u001b[39m▁\u001b[39m▁\u001b[39m▁\u001b[39m▁\u001b[39m▁\u001b[39m▁\u001b[39m▁\u001b[39m▁\u001b[39m▁\u001b[39m▁\u001b[39m▁\u001b[39m▁\u001b[39m▁\u001b[39m▁\u001b[39m▁\u001b[39m▁\u001b[39m▁\u001b[39m▁\u001b[39m▁\u001b[39m▁\u001b[39m▁\u001b[39m▁\u001b[39m▁\u001b[39m▁\u001b[39m▁\u001b[39m▁\u001b[39m \u001b[39m▂\n",
       "  402 ns\u001b[90m          Histogram: frequency by time\u001b[39m          601 ns \u001b[0m\u001b[1m<\u001b[22m\n",
       "\n",
       " Memory estimate\u001b[90m: \u001b[39m\u001b[33m884 bytes\u001b[39m, allocs estimate\u001b[90m: \u001b[39m\u001b[33m13\u001b[39m."
      ]
     },
     "metadata": {},
     "output_type": "display_data"
    }
   ],
   "source": [
    "function one_step_merger_tree(P::Vector{<:Real}, F::Vector{<:Real}, M1::Vector{<:Real}, Mres::Real)\n",
    "\n",
    "    n = length(M1)\n",
    "    _R = rand(Float64, n)\n",
    "\n",
    "    M2 = zeros(n)\n",
    "    array_progenitors = zeros(n, 2)\n",
    "\n",
    "    id_tree_0 = ((P .< _R) .| (M1 .< 2 * Mres)  .&  (M1 .* (1.0 .-F) .> Mres)) \n",
    "    array_progenitors[id_tree_0, 1] =  M1[id_tree_0] .* (1.0 .- F[id_tree_0])\n",
    "\n",
    "    id_tree_1 = ((P .> _R) .& (M1 .> 2 * Mres))\n",
    "\n",
    "    #_random = rand(Float64, sum(id_tree_1))\n",
    "    #M2[id_tree_1] = draw_mass_with_restrictions.(_random, M1[id_tree_1], Mres, itp_functionP, cosmology = cosmology)\n",
    "    #array_progenitors[id_tree_1, 2] =  M2[id_tree_1]\n",
    "    #id_tree_2 = (id_tree_1 .& (M1 .* (1.0 .- F) .- M2 .> Mres))\n",
    "    #array_progenitors[id_tree_2, 1] =  M1[id_tree_2] .* (1.0 .- F[id_tree_2]) .- M2[id_tree_2]\n",
    "\n",
    "    #return array_progenitors\n",
    "end\n",
    "\n",
    "@benchmark one_step_merger_tree([0.1, 0.8], [0.01, 0.01], [1e+10, 1e+10], 1e+8)"
   ]
  },
  {
   "cell_type": "code",
   "execution_count": 52,
   "metadata": {},
   "outputs": [],
   "source": []
  }
 ],
 "metadata": {
  "kernelspec": {
   "display_name": "Julia 1.8.5",
   "language": "julia",
   "name": "julia-1.8"
  },
  "language_info": {
   "file_extension": ".jl",
   "mimetype": "application/julia",
   "name": "julia",
   "version": "1.8.5"
  },
  "orig_nbformat": 4
 },
 "nbformat": 4,
 "nbformat_minor": 2
}
